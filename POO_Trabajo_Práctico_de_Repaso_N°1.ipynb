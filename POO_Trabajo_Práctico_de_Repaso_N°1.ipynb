{
  "nbformat": 4,
  "nbformat_minor": 0,
  "metadata": {
    "colab": {
      "provenance": [],
      "collapsed_sections": [
        "b4skkOt8D24w",
        "qxQYib0tD8V6",
        "JtLE-vI7EBqp"
      ],
      "authorship_tag": "ABX9TyOtpYrKGTUjHxY6JkInMyp9",
      "include_colab_link": true
    },
    "kernelspec": {
      "name": "python3",
      "display_name": "Python 3"
    },
    "language_info": {
      "name": "python"
    }
  },
  "cells": [
    {
      "cell_type": "markdown",
      "metadata": {
        "id": "view-in-github",
        "colab_type": "text"
      },
      "source": [
        "<a href=\"https://colab.research.google.com/github/JuanRoccia/Object-Oriented-Python-Programming/blob/main/POO_Trabajo_Pr%C3%A1ctico_de_Repaso_N%C2%B01.ipynb\" target=\"_parent\"><img src=\"https://colab.research.google.com/assets/colab-badge.svg\" alt=\"Open In Colab\"/></a>"
      ]
    },
    {
      "cell_type": "markdown",
      "source": [
        "> # TRABAJO PRÁCTICO DE REPASO\n",
        "\n",
        "---\n",
        "\n",
        "**Asignatura: Programación Orientada a Objetos**"
      ],
      "metadata": {
        "id": "YlEd0jQ3DxvX"
      }
    },
    {
      "cell_type": "markdown",
      "source": [
        "# **Ejercicio 1**\n",
        "Implementar una clase A, que contenga un constructor para asignar el valor de un atributo _a1, y un\n",
        "método m1 que calcule y retorne el cuadrado de _a1. Luego incorporar los siguientes requisitos:\n",
        "\n",
        "a) Crear una clase B por herencia de A, que contenga un constructor para asignar el valor de _a1 y un\n",
        "segundo parámetro _b1. Indicar dos maneras de implementar esta clase.\n",
        "\n",
        "b) Sobreescribir el método m1, de forma que calcule y retorne el doble de _b1.\n",
        "\n",
        "c) Crear una clase C por herencia de B, que contenga un constructor para asignar valores de _a1 y\n",
        "_b1.\n",
        "\n",
        "d) Agregar a C un método m2, que calcule y retorne la suma de _a1 y _b1.\n"
      ],
      "metadata": {
        "id": "b4skkOt8D24w"
      }
    },
    {
      "cell_type": "code",
      "execution_count": null,
      "metadata": {
        "id": "gFIkNmi9DrCV"
      },
      "outputs": [],
      "source": [
        "# --------- Ejercicio1 ---------\n",
        "class A:\n",
        "    \"\"\"docstring for A\"\"\"\n",
        "\n",
        "    def __init__(self, a1):\n",
        "        # super(A, self).__init__()\n",
        "        self._a1 = a1\n",
        "\n",
        "    def m1(self):\n",
        "        return self._a1**2\n",
        "\n",
        "\n",
        "# --------- Resultados ---------\n",
        "object1 = A(5)\n",
        "print(object1.__dict__)\n",
        "print(object1.m1())\n",
        "\n",
        "# -------- ejercicio a) --------\n",
        "class B(A):\n",
        "    \"\"\"docstring for B\"\"\"\n",
        "\n",
        "    def __init__(self, a1, b1):\n",
        "        super(B, self).__init__(a1)\n",
        "        self._b1 = b1\n",
        "\n",
        "    # -------- ejercicio b) --------\n",
        "    def m1(self):\n",
        "        return 2 * self._b1\n",
        "\n",
        "\n",
        "# --------- Resultados ---------\n",
        "object2 = B(5, 7)\n",
        "print(object2.__dict__)\n",
        "print(object2.m1())\n",
        "\n",
        "# -------- ejercicio c) --------\n",
        "class C(B):\n",
        "    \"\"\"docstring for C\"\"\"\n",
        "\n",
        "    def __init__(self, a1, b1):\n",
        "        super(C, self).__init__(a1, b1)\n",
        "\n",
        "    # -------- ejercicio d) --------\n",
        "    def m2(self):\n",
        "        return self._a1 + self._b1\n",
        "\n",
        "\n",
        "# --------- Resultados ---------\n",
        "object3 = C(5, 7)\n",
        "print(object3.__dict__)\n",
        "print(object3.m2())"
      ]
    },
    {
      "cell_type": "code",
      "source": [
        "class A:\n",
        "    def __init__(self, a1):\n",
        "        self._a1 = a1\n",
        "\n",
        "    def m1(self):\n",
        "        return pow(self._a1, 2)\n",
        "\n",
        "    def getA1(self):\n",
        "        return self._a1\n",
        "\n",
        "\n",
        "class B(A):\n",
        "    def __init__(self, a1, b1):\n",
        "        super().__init__(a1)\n",
        "        self._b1 = b1\n",
        "\n",
        "    def getB1(self):\n",
        "        return self._b1\n",
        "\n",
        "    def m1(self):\n",
        "        return 2 * self._b1\n",
        "\n",
        "\n",
        "class C(B):\n",
        "    def __init__(self, a1, b1):\n",
        "        super().__init__(a1, b1)\n",
        "\n",
        "    def m2(self):\n",
        "        return self.getA1() + self.getB1()  # super().getA1 + super().getB1\n",
        "\n",
        "\n",
        "# ====================================\n",
        "claseA = A(5)\n",
        "print(claseA.m1())\n",
        "\n",
        "claseB = B(5, 7)\n",
        "print(claseB.m1())  # devuelve el doble de 7\n",
        "\n",
        "claseC = C(5, 7)\n",
        "print(claseC.m2())\n"
      ],
      "metadata": {
        "id": "7_4Skq5PFxja"
      },
      "execution_count": null,
      "outputs": []
    },
    {
      "cell_type": "markdown",
      "source": [
        "# **Ejercicio 2**\n",
        "Crear una clase abstracta A, que especifique dos métodos abstractos incrementarValor(cantidad) y\n",
        "reducirValor(cantidad). Luego utilizar a A como una interface formal para crear una clase B y\n",
        "completar la implementación. B debe tener un atributo _valor, que se pueda incrementar o reducir en\n",
        "una cantidad determinada utilizando los métodos indicados.\n"
      ],
      "metadata": {
        "id": "qxQYib0tD8V6"
      }
    },
    {
      "cell_type": "code",
      "source": [
        "# ------------- Ejercicio2 -------------\n",
        "from abc import abstractmethod, ABCMeta\n",
        "\n",
        "\n",
        "class A(metaclass=ABCMeta):\n",
        "    \"\"\"docstring for A\"\"\"\n",
        "\n",
        "    def __init__(self):\n",
        "        pass\n",
        "\n",
        "    @abstractmethod\n",
        "    def incrementarValor(self, cantidad):\n",
        "        pass\n",
        "\n",
        "    @abstractmethod\n",
        "    def reducirValor(self, cantidad):\n",
        "        pass\n",
        "\n",
        "\n",
        "class B(A):\n",
        "    \"\"\"docstring for B\"\"\"\n",
        "\n",
        "    def __init__(self, valor):\n",
        "        super(B, self).__init__()\n",
        "        self._valor = valor\n",
        "\n",
        "    def getValor(self):\n",
        "        return self._valor\n",
        "\n",
        "    def incrementarValor(self, valor):\n",
        "        incrementar = self._valor + valor\n",
        "        self._valor = incrementar\n",
        "\n",
        "    def reducirValor(self, valor):\n",
        "        reducir = self._valor - valor\n",
        "        self._valor = reducir\n",
        "\n",
        "\n",
        "# ------------- Resultados -------------\n",
        "\n",
        "B1 = B(5)\n",
        "print(B1.getValor())\n",
        "B1.incrementarValor(15)\n",
        "print(B1.getValor())\n",
        "B1.reducirValor(20)\n",
        "print(B1.getValor())\n"
      ],
      "metadata": {
        "id": "jAMh4nRhD80C"
      },
      "execution_count": null,
      "outputs": []
    },
    {
      "cell_type": "markdown",
      "source": [
        "# **Ejercicio 3**\n",
        "\n",
        "Crear una clase Precio, que modele los diferentes valores de venta de un producto teniendo en\n",
        "cuenta su precio de lista, recargo por pago en 3 cuotas y descuento por pago en efectivo. La clase\n",
        "debe contener un constructor sobrecargado para poder instanciar objetos con las siguientes\n",
        "opciones:<br>\n",
        "\n",
        "a) p1 = Precio(1000) # asigna $1000 al precio de lista, no hay descuentos y no se permite pago en\n",
        "cuotas.\n",
        "\n",
        "b) p2 = Precio(1000, 10 ) # asigna $1000 al precio de lista, un descuento del 10% por pago efectivo,\n",
        "no se permite pago en cuotas.\n",
        "\n",
        "c) p3 = Precio(1000, (10, 25) ) # asigna $1000 al precio de lista, un descuento del 10% por pago\n",
        "efectivo, y opciones de pago en 3 cuotas con 25% de recargo.\n",
        "\n",
        "Agregar un método mostrarOpcionesPago, que imprima un mensaje con el siguiente formato de\n",
        "acuerdo a la información del objeto creado:\n",
        "\n",
        "p1.mostrarOpcionesPago() # salida esperada: ‘El precio de lista es $ 1000 - No hay descuento por pago efectivo - No hay opción de pago en cuotas.<br>\n",
        "\n",
        "p2.mostrarOpcionesPago() # salida esperada: ‘El precio de lista es $1000 - Descuento de 10% por\n",
        "pago efectivo - No hay opción de pago en cuotas.<br>\n",
        "\n",
        "p3.mostrarOpcionesPago() # salida esperada: ‘El precio de lista es $1000 - Descuento de 10% por\n",
        "pago efectivo - Recargo de 25% por pago en 3 cuota."
      ],
      "metadata": {
        "id": "JtLE-vI7EBqp"
      }
    },
    {
      "cell_type": "code",
      "source": [
        "# ------------- Ejercicio3 -------------\n",
        "class Precio(object):\n",
        "    \"\"\"docstring for Precio\"\"\"\n",
        "\n",
        "    def __init__(self, *arg):\n",
        "\n",
        "        self.precioLista = arg[0]\n",
        "\n",
        "\n",
        "# ------------- Resultados -------------\n",
        "\n",
        "p1 = Precio(1000)\n",
        "# asigna $1000 al precio de lista,\n",
        "# no hay descuentos y no se permite pago en cuotas.\n",
        "\n",
        "p2 = Precio(1000, 10)\n",
        "# asigna $1000 al precio de lista,\n",
        "# un descuento del 10% por pago efectivo,\n",
        "# no se permite pago en cuotas.\n",
        "\n",
        "p3 = Precio(1000, (10, 25))\n",
        "# asigna $1000 al precio de lista,\n",
        "# un descuento del 10% por pago efectivo,\n",
        "# y opciones de pago en 3 cuotas con 25% de recargo."
      ],
      "metadata": {
        "id": "eHU1uE-gECCK"
      },
      "execution_count": null,
      "outputs": []
    }
  ]
}