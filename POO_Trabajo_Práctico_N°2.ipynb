{
  "nbformat": 4,
  "nbformat_minor": 0,
  "metadata": {
    "colab": {
      "provenance": [],
      "collapsed_sections": [
        "JDbe-rPAHqwF",
        "KZmCk93fJqsR",
        "SOMvWDLhnD1d"
      ],
      "authorship_tag": "ABX9TyPQQ41H0u5jrhAd+2dnk1dn",
      "include_colab_link": true
    },
    "kernelspec": {
      "name": "python3",
      "display_name": "Python 3"
    },
    "language_info": {
      "name": "python"
    }
  },
  "cells": [
    {
      "cell_type": "markdown",
      "metadata": {
        "id": "view-in-github",
        "colab_type": "text"
      },
      "source": [
        "<a href=\"https://colab.research.google.com/github/JuanRoccia/Object-Oriented-Python-Programming/blob/main/POO_Trabajo_Pr%C3%A1ctico_N%C2%B02.ipynb\" target=\"_parent\"><img src=\"https://colab.research.google.com/assets/colab-badge.svg\" alt=\"Open In Colab\"/></a>"
      ]
    },
    {
      "cell_type": "markdown",
      "source": [
        "# ***Programación Orientada a Objetos - TRABAJO PRÁCTICO N°2***\n",
        "---\n",
        "\n",
        "> Repaso de funciones. En todos los ejercicios incluir al menos un ejemplo de invocación."
      ],
      "metadata": {
        "id": "4zkdXSPcw1DW"
      }
    },
    {
      "cell_type": "markdown",
      "source": [
        "## **Ejercicio 1**\n",
        "Escribir en Python dos funciones que muestran y dos funciones que devuelven."
      ],
      "metadata": {
        "id": "JDbe-rPAHqwF"
      }
    },
    {
      "cell_type": "code",
      "execution_count": null,
      "metadata": {
        "colab": {
          "base_uri": "https://localhost:8080/"
        },
        "id": "U88Jb8I_wtSg",
        "outputId": "3a6952a5-d238-4d3e-d0a1-35337fef705c"
      },
      "outputs": [
        {
          "output_type": "stream",
          "name": "stdout",
          "text": [
            "Hola Marina Lopez. Su edad es: 30.\n"
          ]
        }
      ],
      "source": [
        "# 1° funcion que muestra\n",
        "def saludar(nombre,apellido,edad):\n",
        "  print(f\"Hola {nombre} {apellido}. Su edad es: {edad}.\")\n",
        "  \n",
        "saludar(\"Marina\",\"Lopez\",30)"
      ]
    },
    {
      "cell_type": "code",
      "source": [
        "# 2° funcion que muestra\n",
        "def correr(minutos,kilometros):\n",
        "  print(f'Usted corrio {kilometros}km durante {minutos} minutos.')\n",
        "\n",
        "correr(22,15)"
      ],
      "metadata": {
        "colab": {
          "base_uri": "https://localhost:8080/"
        },
        "id": "Li0I6SWyKddd",
        "outputId": "23b3f071-cfcc-4504-8822-710696061089"
      },
      "execution_count": null,
      "outputs": [
        {
          "output_type": "stream",
          "name": "stdout",
          "text": [
            "Usted corrio 15km durante 22 minutos.\n"
          ]
        }
      ]
    },
    {
      "cell_type": "code",
      "source": [
        "# 1° funcion que retorna\n",
        "def sumar(x,y,z):\n",
        "  resultado = x + y + z\n",
        "  return resultado\n",
        "\n",
        "total = sumar(10,20,30)\n",
        "promedio = total/3\n",
        "promedio"
      ],
      "metadata": {
        "colab": {
          "base_uri": "https://localhost:8080/"
        },
        "id": "7zNaSUCRzf2A",
        "outputId": "cbb8eb20-ccac-4ce7-ad73-24cc52330004"
      },
      "execution_count": null,
      "outputs": [
        {
          "output_type": "execute_result",
          "data": {
            "text/plain": [
              "20.0"
            ]
          },
          "metadata": {},
          "execution_count": 30
        }
      ]
    },
    {
      "cell_type": "code",
      "source": [
        "# 2° funcion que retorna\n",
        "def velocidad_km(distancia,tiempo): # tiempo en horas\n",
        "  velocidad = distancia / tiempo\n",
        "  return velocidad\n",
        "\n",
        "viaje_BuenosAs = velocidad_km(730,10)\n",
        "\n",
        "print(f'Velocidad promedio a la que debe viajar para llegar a Buenos Aires en 10 horas: {viaje_BuenosAs}km/h')\n"
      ],
      "metadata": {
        "colab": {
          "base_uri": "https://localhost:8080/"
        },
        "id": "sheVTsVY00Tj",
        "outputId": "7e316f7f-4422-4829-9571-d1e8a265487e"
      },
      "execution_count": null,
      "outputs": [
        {
          "output_type": "stream",
          "name": "stdout",
          "text": [
            "Velocidad promedio a la que debe viajar para llegar a Buenos Aires en 10 horas: 73.0km/h\n"
          ]
        }
      ]
    },
    {
      "cell_type": "markdown",
      "source": [
        "## **Ejercicio 2**\n",
        "Escribir en Pyhton funciones que operen sobre un número variable de valores numéricos y devuelvan\n",
        "los resultados solicitados (una función para cada inciso).\n",
        "\n",
        "```\n",
        "a) Devolver el mínimo de los valores y su posición en la lista de argumentos.\n",
        "b) Devolver la diferencia entre el menor y el mayor de los argumentos.\n",
        "c) Devolver el promedio de todos los elementos.\n",
        "```"
      ],
      "metadata": {
        "id": "KZmCk93fJqsR"
      }
    },
    {
      "cell_type": "code",
      "source": [
        "# valores numericos sobre los cuales operar.\n",
        "import random\n",
        "\n",
        "randomlist = random.sample(range(1,30),5) # random sample requiere una secuencia y la extension de esa secuencia como parametros\n",
        "print(randomlist) # lo que genera una lista de 5 valores numericos aleatorios entre 1 y 30"
      ],
      "metadata": {
        "id": "zDqXQBfHKAVO",
        "colab": {
          "base_uri": "https://localhost:8080/"
        },
        "outputId": "0c9c9549-c884-4cdc-be3b-c3910491fa42"
      },
      "execution_count": null,
      "outputs": [
        {
          "output_type": "stream",
          "name": "stdout",
          "text": [
            "[28, 1, 7, 29, 20]\n"
          ]
        }
      ]
    },
    {
      "cell_type": "code",
      "source": [
        "# a) Devolver el mínimo de los valores y su posición en la lista de argumentos.\n",
        "\n",
        "minor = min(randomlist) # valor minimo en la lista\n",
        "randomlist.index(minor) # posicion en la lista\n",
        "\n",
        "# funcion\n",
        "def minor_position(lista):\n",
        "  minor = min(lista)\n",
        "  pos = lista.index(minor)\n",
        "  return (minor, pos)\n",
        "\n",
        "minor_position(randomlist)"
      ],
      "metadata": {
        "colab": {
          "base_uri": "https://localhost:8080/"
        },
        "id": "BG8U9TQBMdU5",
        "outputId": "df2eeca0-5407-4b12-d100-47f0a3752745"
      },
      "execution_count": null,
      "outputs": [
        {
          "output_type": "execute_result",
          "data": {
            "text/plain": [
              "(1, 1)"
            ]
          },
          "metadata": {},
          "execution_count": 3
        }
      ]
    },
    {
      "cell_type": "code",
      "source": [
        "# b) Devolver la diferencia entre el menor y el mayor de los argumentos.\n",
        "\n",
        "menor = minor # redundancia detected\n",
        "mayor = max(randomlist) # valor maximo en la lista\n",
        "diferencia = mayor - menor # diferencia entre mayor y menor\n",
        "\n",
        "# funcion\n",
        "def dif_mayor_menor(lista):\n",
        "  menor = min(lista)\n",
        "  mayor = max(lista)\n",
        "  diferencia = mayor - menor\n",
        "  return (diferencia)\n",
        "\n",
        "dif_mayor_menor(randomlist)"
      ],
      "metadata": {
        "colab": {
          "base_uri": "https://localhost:8080/"
        },
        "id": "NEqp41ccVpyC",
        "outputId": "4147ae78-b8b8-40b9-d9e5-4c7bdcfe503f"
      },
      "execution_count": null,
      "outputs": [
        {
          "output_type": "execute_result",
          "data": {
            "text/plain": [
              "28"
            ]
          },
          "metadata": {},
          "execution_count": 4
        }
      ]
    },
    {
      "cell_type": "code",
      "source": [
        "# c) Devolver el promedio de todos los elementos.\n",
        "\n",
        "promedio = sum(randomlist) / len(randomlist) # calcular el promedio de la lista\n",
        "\n",
        "# funcion\n",
        "def promedio(lista):\n",
        "  prom = sum(lista) / len(lista)\n",
        "  return prom\n",
        "\n",
        "promedio(randomlist)"
      ],
      "metadata": {
        "colab": {
          "base_uri": "https://localhost:8080/"
        },
        "id": "_3m6blrWXlQz",
        "outputId": "1110531f-03c6-4783-eefa-d8fbc26d7244"
      },
      "execution_count": null,
      "outputs": [
        {
          "output_type": "execute_result",
          "data": {
            "text/plain": [
              "17.0"
            ]
          },
          "metadata": {},
          "execution_count": 5
        }
      ]
    },
    {
      "cell_type": "markdown",
      "source": [
        "## **Ejercicio 3**\n",
        "Escribir en Pyhton funciones que operen sobre un número variable de listas y devuelvan los\n",
        "resultados solicitados (una función para cada inciso).\n",
        "\n",
        "```\n",
        "a) Devolver la lista con menor cantidad de elementos\n",
        "b) Devolver todas las listas cuya cantidad de elementos sea superior a 5.\n",
        "c) Devolver todas las listas cuyos elementos sean todos del mismo tipo de dato (considerar sólo\n",
        "tipos de datos básicos del lenguaje).\n",
        "d) Devolver todas las listas que contengan al menos 3 elementos de tipo de dato numérico.\n",
        "```\n"
      ],
      "metadata": {
        "id": "u9IZu9hfY6fl"
      }
    },
    {
      "cell_type": "code",
      "source": [
        "# listas sobre las cuales operar\n",
        "lista1 = random.sample(range(1,30),5)\n",
        "lista2 = [*range(random.randint(3, 9),random.randint(10,20))]\n",
        "lista3 = [random.randint(10,30) for i in range(10,20)]\n",
        "lista4 = list(reversed(lista2))\n",
        "print(' Listas: \\n',lista1,'\\n',lista2,'\\n',lista3,'\\n',lista4)"
      ],
      "metadata": {
        "colab": {
          "base_uri": "https://localhost:8080/"
        },
        "id": "exGKNWwkZGZY",
        "outputId": "2ec17aae-53cb-45f4-abd7-4cf15a4b8d6b"
      },
      "execution_count": null,
      "outputs": [
        {
          "output_type": "stream",
          "name": "stdout",
          "text": [
            " Listas: \n",
            " [4, 12, 14, 18, 8] \n",
            " [4, 5, 6, 7, 8, 9, 10, 11, 12, 13, 14, 15, 16] \n",
            " [14, 18, 23, 10, 30, 21, 17, 14, 17, 28] \n",
            " [16, 15, 14, 13, 12, 11, 10, 9, 8, 7, 6, 5, 4]\n"
          ]
        }
      ]
    },
    {
      "cell_type": "code",
      "source": [
        "# a) Devolver la lista con menor cantidad de elementos\n",
        "\n",
        "elements = len(lista1) # Asi calculo la cantidad de elementos en una lista\n",
        "elements2 = len(lista2)\n",
        "\n",
        "# funcion\n",
        "def lista_menor(*listas): # Con el ciclo for itero sobre la tupla que guarda la cantidad de listas\n",
        "  pos = 0                 # y asi puedo modificar la posicion sobre la tupla en funcion de la cantidad de listas que tenga la misma.\n",
        "  nueva_lista = []\n",
        "  for i in listas:\n",
        "    elementos = len(listas[pos])    # luego puedo medir cada lista con el contador \"pos\" para guardar este dato en\n",
        "    nueva_lista.append(elementos)   # nueva_lista y obtener con min() el valor mas pequeño que va a referir a la lista mas chica.\n",
        "    pos =+ 1\n",
        "    lista_menor = min(nueva_lista)   # lo que retornaria hasta aca con \"lista_menor\" seria la cantidad de items de la lista y no la lista en si.    \n",
        "  \n",
        "  position = 0                       # Entonces repito la operacion del contador para ubicar la posicion en la tupla de listas\n",
        "  for i in listas:\n",
        "    if lista_menor == len(listas[position]):  # pero en vez de guardar sus valores, identifico si el momento en que la cantidad entre un valor y otro coinciden,\n",
        "      return listas[position]                 # por ende, esa seria la lista que quiero identificar, y recien ahi retorno dicha lista.\n",
        "\n",
        "lista_menor(lista1,lista2,lista3,lista4)"
      ],
      "metadata": {
        "colab": {
          "base_uri": "https://localhost:8080/"
        },
        "id": "hPtgySqrl2us",
        "outputId": "7b9ae603-15e4-4415-e54e-58250de0506e"
      },
      "execution_count": null,
      "outputs": [
        {
          "output_type": "execute_result",
          "data": {
            "text/plain": [
              "[4, 12, 14, 18, 8]"
            ]
          },
          "metadata": {},
          "execution_count": 7
        }
      ]
    },
    {
      "cell_type": "code",
      "source": [
        "# b) Devolver todas las listas cuya cantidad de elementos sea superior a 5.\n",
        "\n",
        "def lista_mayor_5(*listas):\n",
        "  new_list = []\n",
        "\n",
        "  for i in listas:\n",
        "    if len(i) > 5:\n",
        "      new_list.append(i)\n",
        "  return new_list\n",
        "\n",
        "lista_mayor_5(lista1,lista2,lista3,lista4)"
      ],
      "metadata": {
        "colab": {
          "base_uri": "https://localhost:8080/"
        },
        "id": "r9w7I_mCYh-s",
        "outputId": "8a0beff5-737d-4705-db55-980eff524d90"
      },
      "execution_count": null,
      "outputs": [
        {
          "output_type": "execute_result",
          "data": {
            "text/plain": [
              "[[4, 5, 6, 7, 8, 9, 10, 11, 12, 13, 14, 15, 16],\n",
              " [14, 18, 23, 10, 30, 21, 17, 14, 17, 28],\n",
              " [16, 15, 14, 13, 12, 11, 10, 9, 8, 7, 6, 5, 4]]"
            ]
          },
          "metadata": {},
          "execution_count": 9
        }
      ]
    },
    {
      "cell_type": "code",
      "source": [
        "# c) Devolver todas las listas cuyos elementos sean todos del mismo tipo de dato (considerar sólo\n",
        "# tipos de datos básicos del lenguaje).\n",
        "\n",
        "def listas_type(*listas):\n",
        "  lista_type = []\n",
        "  pos = 0\n",
        "  for i in listas:\n",
        "    tipo_dato = type(i[pos])\n",
        "    lista_type.append(tipo_dato)\n",
        "    pos=+1\n",
        "  \n",
        "\n",
        "  for i in listas: #listas = [lista1, lista2, lista3, etc]\n",
        "    same_type = []\n",
        "    position = 0\n",
        "    position2 = 1\n",
        "    check = listas[position]\n",
        "    # check = i[position]\n",
        "    if type(check) == type(i[position2]): #wrong! la posicion de la iteracion me lleva dentro de la lista hacia su 1° elemento.\n",
        "      same_type.append(check)\n",
        "      same_type.append(i)\n",
        "\n",
        "    position =+ 1\n",
        "\n",
        "  # return lista_type\n",
        "  return (same_type)\n",
        "\n",
        "lista_str = ['hola','dos','tres']\n",
        "lista_int = [10,20,30,40,50,60,7]\n",
        "lista_int1 = [10,200,30,40,50,60,7]\n",
        "lista_float = [10.05,20.5,105.12]\n",
        "lista_bool = [True,False,True,False]\n",
        "lista_bool1 = [True,False,True,False]\n",
        "\n",
        "listas_type(lista_str,lista_int,lista_int1,lista_float,lista_bool,lista_bool1)"
      ],
      "metadata": {
        "colab": {
          "base_uri": "https://localhost:8080/"
        },
        "id": "PHazGTbV20v_",
        "outputId": "d1c9cf39-92e1-4ca4-c8ab-32f59ef2254d"
      },
      "execution_count": null,
      "outputs": [
        {
          "output_type": "execute_result",
          "data": {
            "text/plain": [
              "[[True, False, True, False], True]"
            ]
          },
          "metadata": {},
          "execution_count": 46
        }
      ]
    },
    {
      "cell_type": "code",
      "source": [
        "# d) Devolver todas las listas que contengan al menos 3 elementos de tipo de dato numérico. (int, float, complex)\n",
        "\n",
        "lista1 = ['uno','dos','tres']\n",
        "lista2 = ['uno',2,3.0]\n",
        "lista3 = [1,2,3]\n",
        "lista4 = [1j + 0,'uno',2,'dos',3,'tres']"
      ],
      "metadata": {
        "id": "1j4ENCW1QZy9"
      },
      "execution_count": null,
      "outputs": []
    },
    {
      "cell_type": "code",
      "source": [
        "def dato_numerico(*listas): #listas = [lista1, lista2, lista3, etc]\n",
        "  for sub_listas in listas:\n",
        "    # recorre listas\n",
        "    a = listas.count(sub_listas)\n",
        "    print(a)\n",
        "    for elementos in sub_listas:\n",
        "      # recorre dentro de las listas\n",
        "      print(type(elementos))\n",
        "      if type(elementos) == int or type(elementos) == float or type(elementos) == complex:\n",
        "        print(True)\n",
        "\n",
        "\n",
        "dato_numerico(lista1, lista2, lista3, lista4)"
      ],
      "metadata": {
        "colab": {
          "base_uri": "https://localhost:8080/"
        },
        "id": "OMxzlGcNOike",
        "outputId": "4bbd71a0-2ff7-4300-f2a6-2aab570c8d1f"
      },
      "execution_count": null,
      "outputs": [
        {
          "output_type": "stream",
          "name": "stdout",
          "text": [
            "1\n",
            "<class 'str'>\n",
            "<class 'str'>\n",
            "<class 'str'>\n",
            "1\n",
            "<class 'str'>\n",
            "<class 'int'>\n",
            "True\n",
            "<class 'float'>\n",
            "True\n",
            "1\n",
            "<class 'int'>\n",
            "True\n",
            "<class 'int'>\n",
            "True\n",
            "<class 'int'>\n",
            "True\n",
            "1\n",
            "<class 'complex'>\n",
            "True\n",
            "<class 'str'>\n",
            "<class 'int'>\n",
            "True\n",
            "<class 'str'>\n",
            "<class 'int'>\n",
            "True\n",
            "<class 'str'>\n"
          ]
        }
      ]
    },
    {
      "cell_type": "markdown",
      "source": [
        "# Ejercicio 4\n",
        "Implementar la función analizarDatos, que reciba como parámetros una lista de nombres y una lista\n",
        "de salarios, ambas con la misma cantidad de elementos y cuya información se relaciona por medio\n",
        "del mismo índice (concepto de listas paralelas: el dato en la posición i de una lista está relacionado\n",
        "únicamente con el dato en la misma posición de la otra lista)."
      ],
      "metadata": {
        "id": "SOMvWDLhnD1d"
      }
    },
    {
      "cell_type": "markdown",
      "source": [
        "La función solicitada debe cumplir los siguientes requisitos:\n",
        "\n",
        "```\n",
        "a) Los dos parámetros deben poder pasarse a la función en cualquier orden.\n",
        "b) La función debe devolver un diccionario, con las siguientes claves: “error”, “mayor”, “menor”,\n",
        "“promedio”.\n",
        "c) Si las longitudes de las listas no coinciden, la función debe devolver un mensaje apropiado como\n",
        "valor en la clave “error”. Todas las demás claves deben tomar valor None.\n",
        "d) Se debe controlar que todos los valores de la lista de salarios sean positivos, de lo contrario\n",
        "indicar un mensaje apropiado como valor en la clave “error”. Todas las demás claves deben tomar\n",
        "valor None.\n",
        "e) Se debe controlar que todos los valores de la lista de nombres sean cadenas no vacías, de lo\n",
        "contrario indicar un mensaje apropiado como valor en la clave “error”. Todas las demás claves deben\n",
        "tomar valor None.\n",
        "f) Si todos los datos de entrada son correctos, devolver en las claves correspondientes los datos de:\n",
        "nombre y salario de la persona con menor salario, nombre y salario de la persona con mayor salario,\n",
        "promedio de todos los salarios.\n",
        "```"
      ],
      "metadata": {
        "id": "FzXJ4LbLnFUF"
      }
    },
    {
      "cell_type": "code",
      "source": [
        "# filtros (condiciones que se podrian hacer con if)\n",
        "def primerFiltro(lista1,lista2):\n",
        "  cumple = len(lista1) == len(lista2)\n",
        "  return cumple\n",
        "\n",
        "def segundoFiltro(listaSalarios):\n",
        "  cumple = True\n",
        "  for unSalario in listaSalarios:\n",
        "    if unSalario <= 0:\n",
        "      cumple = False\n",
        "      break\n",
        "  \n",
        "  # indice = 0\n",
        "  # while cumple and indice < len(listaSalarios):\n",
        "  #   unSalario = listaSalarios[indice]\n",
        "  #   indice =+ 1\n",
        "  #   if unSalario <= 0:\n",
        "  #     cumple = False\n",
        "  #     break\n",
        "  \n",
        "  return cumple\n",
        "\n",
        "def tercerFiltro(listaNombres):\n",
        "  cumple = True\n",
        "  for unNombre in listaNombres:\n",
        "    # if unNombre == \"\":\n",
        "    if len(unNombre) == 0:\n",
        "      cumple = False\n",
        "      break\n",
        "  return cumple\n",
        "\n",
        "def cumpleTodo(listaNombres, listaSueldos):\n",
        "  # obtener al menor sueldo y su nombre correspondiente\n",
        "  menor = min(listaSueldos)\n",
        "  posicionMin = listaSueldos.index(menor)\n",
        "  nombreMenor = listaNombres[posicionMin]\n",
        "  # obtener al mayor sueldo y su nombre correspondiente\n",
        "  mayor = max(listaSueldos)\n",
        "  posicionMax = listaSueldos.index(mayor)\n",
        "  nombreMayor = listaNombres[posicionMax]\n",
        "  # calculamos promedio\n",
        "  promedio = sum(listaSueldos) / len(listaSueldos)\n",
        "  return menor, nombreMenor, mayor, nombreMayor, promedio"
      ],
      "metadata": {
        "id": "OYBik4pUofc3"
      },
      "execution_count": null,
      "outputs": []
    },
    {
      "cell_type": "code",
      "source": [
        "def analizarDatos(listaNombres = [], listaSueldos = []):\n",
        "  diccionarioDeSalida = {\n",
        "      'Error'    : None,\n",
        "      'Mayor'    : None,\n",
        "      'Menor'    : None,\n",
        "      'Promedio' : None }\n",
        "\n",
        "  # vamos a hacer filtros\n",
        "  cumple1 = primerFiltro(listaNombres, listaSueldos)\n",
        "  cumple2 = segundoFiltro(listaSueldos)\n",
        "  cumple3 = tercerFiltro(listaNombres)\n",
        "  if cumple1 == False:\n",
        "    diccionarioDeSalida.update({'Error' : 'Las listas no son paralelas'})\n",
        "  elif cumple2 == False:\n",
        "    diccionarioDeSalida.update({'Error' : 'hay un salario negativo'})\n",
        "  elif cumple3 == False:\n",
        "    diccionarioDeSalida.update({'Error' : 'hay un nombre vacio'})\n",
        "\n",
        "  if cumple1 and cumple2 and cumple3:\n",
        "    menor, nombreMenor, mayor, nombreMayor, promedio = cumpleTodo(listaNombres, listaSueldos)\n",
        "    diccionarioDeSalida.update({'Mayor' : f'el mayor es de {nombreMayor} y es de {mayor} '})\n",
        "    diccionarioDeSalida.update({'Menor' : f'el menor es de {nombreMenor} y es de {menor} '})\n",
        "    diccionarioDeSalida.update({'Promedio' : f'el promedio es de {promedio} '})\n",
        "  \n",
        "  return diccionarioDeSalida\n",
        "\n",
        "# aqui usamos la duncion analizar datos\n",
        "listaN = ['nombre1', 'yo', 'nombre3', 'nombre4']  \n",
        "listaS = list(range(1,5))\n",
        "\n",
        "print(analizarDatos(listaNombres=listaN, listaSueldos=listaS))"
      ],
      "metadata": {
        "colab": {
          "base_uri": "https://localhost:8080/"
        },
        "id": "_dB2gU2SnGcW",
        "outputId": "0ed607e3-6fda-4c8b-e947-50920d2f714e"
      },
      "execution_count": null,
      "outputs": [
        {
          "output_type": "stream",
          "name": "stdout",
          "text": [
            "{'Error': None, 'Mayor': 'el mayor es de nombre4 y es de 4 ', 'Menor': 'el menor es de nombre1 y es de 1 ', 'Promedio': 'el promedio es de 2.5 '}\n"
          ]
        }
      ]
    }
  ]
}