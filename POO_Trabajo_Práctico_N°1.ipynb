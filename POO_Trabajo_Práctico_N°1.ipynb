{
  "nbformat": 4,
  "nbformat_minor": 0,
  "metadata": {
    "colab": {
      "provenance": [],
      "collapsed_sections": [
        "_-8k_CFQn0Rx",
        "SMU52NmesMms",
        "dIdluMvs0VDy",
        "RUxwkrl252MR",
        "BeebCFB4syvB",
        "Kx3QPZZVs9vI",
        "FgybiiqBkSHY",
        "w3b4KBd1Zcgi",
        "46NLsN-zgn5g",
        "OFYohSPG8p6J",
        "XxoAqD4fSur5",
        "Us83xKa4c97A",
        "caaxXQiSCdx3",
        "dcPhP54ZLsKb",
        "3h9AjgSbXZAe",
        "lLfa8Ujokzsr"
      ],
      "authorship_tag": "ABX9TyMWC2c9cJ6W2vp2aEd5Ehky",
      "include_colab_link": true
    },
    "kernelspec": {
      "name": "python3",
      "display_name": "Python 3"
    },
    "language_info": {
      "name": "python"
    }
  },
  "cells": [
    {
      "cell_type": "markdown",
      "metadata": {
        "id": "view-in-github",
        "colab_type": "text"
      },
      "source": [
        "<a href=\"https://colab.research.google.com/github/JuanRoccia/Object-Oriented-Python-Programming/blob/main/POO_Trabajo_Pr%C3%A1ctico_N%C2%B01.ipynb\" target=\"_parent\"><img src=\"https://colab.research.google.com/assets/colab-badge.svg\" alt=\"Open In Colab\"/></a>"
      ]
    },
    {
      "cell_type": "markdown",
      "source": [
        "># ***Programación Orientada a Objetos - Trabajo Práctico N°1***\n",
        "---"
      ],
      "metadata": {
        "id": "ty3DoaNA036z"
      }
    },
    {
      "cell_type": "markdown",
      "source": [
        "# <h1>Ejercicio 1</h1>\n",
        ">Indicar a que tipo de dato en Python corresponden los siguientes valores.\n",
        "```\n",
        "a)'Hola'  b)7.35  c)0  d)10  e)True  f)'123'  g)'CP8000'\n",
        "```\n",
        "\n"
      ],
      "metadata": {
        "id": "_-8k_CFQn0Rx"
      }
    },
    {
      "cell_type": "code",
      "execution_count": null,
      "metadata": {
        "colab": {
          "base_uri": "https://localhost:8080/"
        },
        "id": "3J7UGTNjnC7O",
        "outputId": "a69163d5-c883-4b0b-feca-08da537ada43"
      },
      "outputs": [
        {
          "output_type": "execute_result",
          "data": {
            "text/plain": [
              "str"
            ]
          },
          "metadata": {},
          "execution_count": 8
        }
      ],
      "source": [
        "# a) 'Hola'\n",
        "\n",
        "type('Hola')"
      ]
    },
    {
      "cell_type": "code",
      "source": [
        "# b) 7.35\n",
        "\n",
        "type(7.35)"
      ],
      "metadata": {
        "colab": {
          "base_uri": "https://localhost:8080/"
        },
        "id": "OzdgGdavqt9g",
        "outputId": "b5d9ac1e-8177-4de2-fd8d-c062b96f1ef5"
      },
      "execution_count": null,
      "outputs": [
        {
          "output_type": "execute_result",
          "data": {
            "text/plain": [
              "float"
            ]
          },
          "metadata": {},
          "execution_count": 9
        }
      ]
    },
    {
      "cell_type": "code",
      "source": [
        "# c) 0\n",
        "\n",
        "type(0)"
      ],
      "metadata": {
        "colab": {
          "base_uri": "https://localhost:8080/"
        },
        "id": "zjASbh4Qq6rI",
        "outputId": "0f89715a-38b1-47f1-be9e-009b604e3015"
      },
      "execution_count": null,
      "outputs": [
        {
          "output_type": "execute_result",
          "data": {
            "text/plain": [
              "int"
            ]
          },
          "metadata": {},
          "execution_count": 10
        }
      ]
    },
    {
      "cell_type": "code",
      "source": [
        "# d) 10\n",
        "\n",
        "type(10)"
      ],
      "metadata": {
        "colab": {
          "base_uri": "https://localhost:8080/"
        },
        "id": "Iyd46Bb7rL3G",
        "outputId": "bdace79c-5bcf-43fd-dd3b-7ad441b21b5e"
      },
      "execution_count": null,
      "outputs": [
        {
          "output_type": "execute_result",
          "data": {
            "text/plain": [
              "int"
            ]
          },
          "metadata": {},
          "execution_count": 11
        }
      ]
    },
    {
      "cell_type": "code",
      "source": [
        "# e) True\n",
        "\n",
        "type(True)"
      ],
      "metadata": {
        "colab": {
          "base_uri": "https://localhost:8080/"
        },
        "id": "-_INjkuprTtp",
        "outputId": "0dca11d2-322a-45b4-fa7b-dc118b991703"
      },
      "execution_count": null,
      "outputs": [
        {
          "output_type": "execute_result",
          "data": {
            "text/plain": [
              "bool"
            ]
          },
          "metadata": {},
          "execution_count": 12
        }
      ]
    },
    {
      "cell_type": "code",
      "source": [
        "# f) '123'\n",
        "\n",
        "type('123')"
      ],
      "metadata": {
        "colab": {
          "base_uri": "https://localhost:8080/"
        },
        "id": "vPMGwhKCrbGf",
        "outputId": "062fbd77-d7f5-4435-93c5-73085fbdf257"
      },
      "execution_count": null,
      "outputs": [
        {
          "output_type": "execute_result",
          "data": {
            "text/plain": [
              "str"
            ]
          },
          "metadata": {},
          "execution_count": 14
        }
      ]
    },
    {
      "cell_type": "code",
      "source": [
        "# g) 'CP8000'\n",
        "\n",
        "type('CP8000')"
      ],
      "metadata": {
        "colab": {
          "base_uri": "https://localhost:8080/"
        },
        "id": "sg09djWqrj2M",
        "outputId": "415c429c-6f9f-439e-d497-a104ef5dc0e2"
      },
      "execution_count": null,
      "outputs": [
        {
          "output_type": "execute_result",
          "data": {
            "text/plain": [
              "str"
            ]
          },
          "metadata": {},
          "execution_count": 15
        }
      ]
    },
    {
      "cell_type": "markdown",
      "source": [
        "# Ejercicio 2\n",
        ">Indicar si las siguientes exopresiones son válidas en Python.\n",
        "```\n",
        "a) 10.25+7.02  b) 10.25+3  c) 10.25+'3'  d) '10.25'+'3'  e) '10.25+3'\n",
        "```\n",
        "\n"
      ],
      "metadata": {
        "id": "SMU52NmesMms"
      }
    },
    {
      "cell_type": "code",
      "source": [
        "a = 10.25 + 7.02\n",
        "print(a)"
      ],
      "metadata": {
        "colab": {
          "base_uri": "https://localhost:8080/"
        },
        "id": "ZEC94p7ZsXTc",
        "outputId": "a766b7f7-d26f-401e-925e-f67b18e7630d"
      },
      "execution_count": null,
      "outputs": [
        {
          "output_type": "stream",
          "name": "stdout",
          "text": [
            "17.27\n"
          ]
        }
      ]
    },
    {
      "cell_type": "code",
      "source": [
        "b = 10.25 + 3\n",
        "print(b)"
      ],
      "metadata": {
        "colab": {
          "base_uri": "https://localhost:8080/"
        },
        "id": "gdQzZbEfwzfP",
        "outputId": "09ca276c-e949-438a-e30c-e211f93ca21c"
      },
      "execution_count": null,
      "outputs": [
        {
          "output_type": "stream",
          "name": "stdout",
          "text": [
            "13.25\n"
          ]
        }
      ]
    },
    {
      "cell_type": "code",
      "source": [
        "c = 10.25 + '3'\n",
        "print(c)"
      ],
      "metadata": {
        "colab": {
          "base_uri": "https://localhost:8080/",
          "height": 182
        },
        "id": "r7X6PYrOw7Hp",
        "outputId": "cbd2997a-894f-4a95-9a41-e105bce48a4e"
      },
      "execution_count": null,
      "outputs": [
        {
          "output_type": "error",
          "ename": "TypeError",
          "evalue": "ignored",
          "traceback": [
            "\u001b[0;31m---------------------------------------------------------------------------\u001b[0m",
            "\u001b[0;31mTypeError\u001b[0m                                 Traceback (most recent call last)",
            "\u001b[0;32m<ipython-input-21-416e0ecb9afe>\u001b[0m in \u001b[0;36m<module>\u001b[0;34m\u001b[0m\n\u001b[0;32m----> 1\u001b[0;31m \u001b[0mc\u001b[0m \u001b[0;34m=\u001b[0m \u001b[0;36m10.25\u001b[0m \u001b[0;34m+\u001b[0m \u001b[0;34m'3'\u001b[0m\u001b[0;34m\u001b[0m\u001b[0;34m\u001b[0m\u001b[0m\n\u001b[0m\u001b[1;32m      2\u001b[0m \u001b[0mprint\u001b[0m\u001b[0;34m(\u001b[0m\u001b[0mc\u001b[0m\u001b[0;34m)\u001b[0m\u001b[0;34m\u001b[0m\u001b[0;34m\u001b[0m\u001b[0m\n",
            "\u001b[0;31mTypeError\u001b[0m: unsupported operand type(s) for +: 'float' and 'str'"
          ]
        }
      ]
    },
    {
      "cell_type": "code",
      "source": [
        "d = '10.25' + '3'\n",
        "print(d)"
      ],
      "metadata": {
        "colab": {
          "base_uri": "https://localhost:8080/"
        },
        "id": "riK9rhy7xJnZ",
        "outputId": "7a9c7a70-6603-42fa-9654-21dd789d20f6"
      },
      "execution_count": null,
      "outputs": [
        {
          "output_type": "stream",
          "name": "stdout",
          "text": [
            "10.253\n"
          ]
        }
      ]
    },
    {
      "cell_type": "code",
      "source": [
        "e = '10.25+3'\n",
        "print(e)"
      ],
      "metadata": {
        "colab": {
          "base_uri": "https://localhost:8080/"
        },
        "id": "q3SpTRIuxR75",
        "outputId": "66b4f88a-2ed2-4700-ea09-d7f0941d514d"
      },
      "execution_count": null,
      "outputs": [
        {
          "output_type": "stream",
          "name": "stdout",
          "text": [
            "10.25+3\n"
          ]
        }
      ]
    },
    {
      "cell_type": "markdown",
      "source": [
        "# Ejercicio 3\n",
        ">Evaluar, si es posible, las siguientes expresiones lógicas. En los casos que no sea posible, explicar el\n",
        "motivo. Responder considerando que las variables indicadas tienen los siguientes valores.\n",
        "```\n",
        "variables:\n",
        "a = 5, b = 8, c = 1.5, d = True, e = '10'\n",
        "expreiones lógicas:\n",
        "a) a<8  b) a<b  c) a<=b  d) (a-b)<c  e) c<e  f) not(d)  g) e>'4'\n",
        "```"
      ],
      "metadata": {
        "id": "dIdluMvs0VDy"
      }
    },
    {
      "cell_type": "code",
      "source": [
        "a = 5\n",
        "b = 8\n",
        "c = 1.5\n",
        "d = True\n",
        "e = '10'"
      ],
      "metadata": {
        "id": "6LBU7leI16Y_"
      },
      "execution_count": null,
      "outputs": []
    },
    {
      "cell_type": "code",
      "source": [
        "# a) a < 8\n",
        "\n",
        "a > 8"
      ],
      "metadata": {
        "colab": {
          "base_uri": "https://localhost:8080/"
        },
        "id": "pWlDt6AV2E-3",
        "outputId": "5ca865ce-1ee6-4e31-ae21-22acf7f88edb"
      },
      "execution_count": null,
      "outputs": [
        {
          "output_type": "execute_result",
          "data": {
            "text/plain": [
              "False"
            ]
          },
          "metadata": {},
          "execution_count": 31
        }
      ]
    },
    {
      "cell_type": "code",
      "source": [
        "# b) a < b\n",
        "\n",
        "a < b"
      ],
      "metadata": {
        "colab": {
          "base_uri": "https://localhost:8080/"
        },
        "id": "pakbXTfB2d1H",
        "outputId": "09baa10d-8c02-4b00-f1d2-59a305ef4b6e"
      },
      "execution_count": null,
      "outputs": [
        {
          "output_type": "execute_result",
          "data": {
            "text/plain": [
              "True"
            ]
          },
          "metadata": {},
          "execution_count": 32
        }
      ]
    },
    {
      "cell_type": "code",
      "source": [
        "# c) a <= b\n",
        "\n",
        "a <= b"
      ],
      "metadata": {
        "colab": {
          "base_uri": "https://localhost:8080/"
        },
        "id": "UulGSpsa2mXf",
        "outputId": "20cc0c37-f5e6-49e0-fdf1-277b5a090ae9"
      },
      "execution_count": null,
      "outputs": [
        {
          "output_type": "execute_result",
          "data": {
            "text/plain": [
              "True"
            ]
          },
          "metadata": {},
          "execution_count": 33
        }
      ]
    },
    {
      "cell_type": "code",
      "source": [
        "# d) (a-b) < c\n",
        "\n",
        "(a-b) < c"
      ],
      "metadata": {
        "colab": {
          "base_uri": "https://localhost:8080/"
        },
        "id": "Yox0aOvL3Osh",
        "outputId": "4827b4ab-7d28-4b6b-9fff-9d9f0939f521"
      },
      "execution_count": null,
      "outputs": [
        {
          "output_type": "execute_result",
          "data": {
            "text/plain": [
              "True"
            ]
          },
          "metadata": {},
          "execution_count": 34
        }
      ]
    },
    {
      "cell_type": "code",
      "source": [
        "# e) c < e \n",
        "\n",
        "c < e\n",
        "# Compara un float con un str. Entonces el float c = 1.5 no puede compararse mediante el operdor \"<\" menor que, el str e = '10'."
      ],
      "metadata": {
        "colab": {
          "base_uri": "https://localhost:8080/",
          "height": 200
        },
        "id": "fo3KLf5a3cZT",
        "outputId": "eda611d6-9585-4afd-a4f2-225d08062d06"
      },
      "execution_count": null,
      "outputs": [
        {
          "output_type": "error",
          "ename": "TypeError",
          "evalue": "ignored",
          "traceback": [
            "\u001b[0;31m---------------------------------------------------------------------------\u001b[0m",
            "\u001b[0;31mTypeError\u001b[0m                                 Traceback (most recent call last)",
            "\u001b[0;32m<ipython-input-35-48ce95830d18>\u001b[0m in \u001b[0;36m<module>\u001b[0;34m\u001b[0m\n\u001b[1;32m      1\u001b[0m \u001b[0;31m# e) c < e\u001b[0m\u001b[0;34m\u001b[0m\u001b[0;34m\u001b[0m\u001b[0;34m\u001b[0m\u001b[0m\n\u001b[1;32m      2\u001b[0m \u001b[0;34m\u001b[0m\u001b[0m\n\u001b[0;32m----> 3\u001b[0;31m \u001b[0mc\u001b[0m \u001b[0;34m<\u001b[0m \u001b[0me\u001b[0m\u001b[0;34m\u001b[0m\u001b[0;34m\u001b[0m\u001b[0m\n\u001b[0m",
            "\u001b[0;31mTypeError\u001b[0m: '<' not supported between instances of 'float' and 'str'"
          ]
        }
      ]
    },
    {
      "cell_type": "code",
      "source": [
        "# f) not(d)\n",
        "\n",
        "not(d)\n",
        "# \"No\" True == False."
      ],
      "metadata": {
        "colab": {
          "base_uri": "https://localhost:8080/"
        },
        "id": "K_oTwBQ_3mLG",
        "outputId": "65788e8b-34c9-460c-b842-776f1e0ad3db"
      },
      "execution_count": null,
      "outputs": [
        {
          "output_type": "execute_result",
          "data": {
            "text/plain": [
              "False"
            ]
          },
          "metadata": {},
          "execution_count": 36
        }
      ]
    },
    {
      "cell_type": "code",
      "source": [
        "# g) e > '4'\n",
        "\n",
        "e > '4'\n",
        "# Compara dos str."
      ],
      "metadata": {
        "colab": {
          "base_uri": "https://localhost:8080/"
        },
        "id": "63D3Q_aT3rl5",
        "outputId": "393683a2-998b-4e37-b482-84bd41932678"
      },
      "execution_count": null,
      "outputs": [
        {
          "output_type": "execute_result",
          "data": {
            "text/plain": [
              "False"
            ]
          },
          "metadata": {},
          "execution_count": 37
        }
      ]
    },
    {
      "cell_type": "markdown",
      "source": [
        "# Ejercicio 4\n",
        ">El operador de módulo (%) permite obtener el resto de la división entera, y es útil en muchas\n",
        "aplicaciones. En cada uno de los siguientes incisos, indicar cómo puede emplearse para resolver el\n",
        "problema planteado.\n",
        "```\n",
        "a) Determinar si un número es par o impar.\n",
        "b) Determinar si un valor ingresado por el usuario es múltiplo de 4.\n",
        "c) Determinar si un valor ingresado por el usuario es múltiplo de 3 ó divisor de 36.\n",
        "d) Determinar si un valor ingresado por el usuario es múltiplo de 3 y divisor de 36.\n",
        "```\n",
        "\n"
      ],
      "metadata": {
        "id": "RUxwkrl252MR"
      }
    },
    {
      "cell_type": "code",
      "source": [
        "# a) Determinar si un número es par o impar.\n",
        "\n",
        "numero = int(input('Ingrese número: ')) \n",
        "\n",
        "if numero % 2 == 0:\n",
        "  print('es par')\n",
        "else:\n",
        "  print('es impar')"
      ],
      "metadata": {
        "colab": {
          "base_uri": "https://localhost:8080/"
        },
        "id": "qXyWpU2x56RQ",
        "outputId": "c620fd52-8d2b-4d75-f3f6-ff803be310c5"
      },
      "execution_count": null,
      "outputs": [
        {
          "output_type": "stream",
          "name": "stdout",
          "text": [
            "Ingrese numero: 11\n",
            "es impar\n"
          ]
        }
      ]
    },
    {
      "cell_type": "code",
      "source": [
        "# b) Determinar si un valor ingresado por el usuario es múltiplo de 4.\n",
        "\n",
        "def es_multiplo(numero):\n",
        "\n",
        "  numero = int(input('Ingrese número: '))\n",
        "\n",
        "  if numero % 4 == 0:\n",
        "    print(f'{numero} es multiplo de 4')\n",
        "  else:\n",
        "    print(f'{numero} no es multiplo de 4 ')"
      ],
      "metadata": {
        "id": "EtnOMx4HCbiV"
      },
      "execution_count": null,
      "outputs": []
    },
    {
      "cell_type": "code",
      "source": [
        "es_multiplo(numero)"
      ],
      "metadata": {
        "colab": {
          "base_uri": "https://localhost:8080/"
        },
        "id": "bs9B2JwsIlOD",
        "outputId": "1a4fde43-ce6c-4f41-98b5-d7bd81ebf5a3"
      },
      "execution_count": null,
      "outputs": [
        {
          "output_type": "stream",
          "name": "stdout",
          "text": [
            "Ingrese número: 56\n",
            "56 es multiplo de 4\n"
          ]
        }
      ]
    },
    {
      "cell_type": "code",
      "source": [
        "# c) Determinar si un valor ingresado por el usuario es múltiplo de 3 ó divisor de 36. divisores: 1, 2, 3, 4, 6, 8, 9, 12, 18, 36.\n",
        "\n",
        "def es_multiplo_divisor(numero):\n",
        "\n",
        "  numero = int(input('Ingrese número: '))\n",
        "\n",
        "  if numero % 3 == 0:\n",
        "    print(f'{numero} es multiplo de 3')\n",
        "  else:\n",
        "    print(f'{numero} no es multiplo de 3')\n",
        "\n",
        "  if numero % 36 == 0:\n",
        "    print(f'{numero} es divisor de 36')\n",
        "  else:\n",
        "    print(f'{numero} no es divisor de 36')"
      ],
      "metadata": {
        "id": "2J31Pp3bI4JM"
      },
      "execution_count": null,
      "outputs": []
    },
    {
      "cell_type": "code",
      "source": [
        "es_multiplo_divisor(numero)"
      ],
      "metadata": {
        "colab": {
          "base_uri": "https://localhost:8080/"
        },
        "id": "bUTvoezqR2wf",
        "outputId": "7cf79cc4-e536-4df5-cffe-42497bd5f1a9"
      },
      "execution_count": null,
      "outputs": [
        {
          "output_type": "stream",
          "name": "stdout",
          "text": [
            "Ingrese número: 3\n",
            "3 es multiplo de 3\n",
            "3 no es divisor de 36\n"
          ]
        }
      ]
    },
    {
      "cell_type": "code",
      "source": [
        "def es_multiplo_divisor(numero):\n",
        "\n",
        "  numero = int(input('Ingrese número: '))\n",
        "\n",
        "  if numero % 3 == 0 or numero % 36 == 0:\n",
        "    print(f'{numero} es multiplo de 3 o divisor de 36')\n",
        "  else:\n",
        "    print(f'{numero} no es multiplo de 3 o divisor de 36')"
      ],
      "metadata": {
        "id": "sBO2W2EGoV0p"
      },
      "execution_count": null,
      "outputs": []
    },
    {
      "cell_type": "code",
      "source": [
        "es_multiplo_divisor(numero)"
      ],
      "metadata": {
        "colab": {
          "base_uri": "https://localhost:8080/"
        },
        "id": "0ane7xtko7MC",
        "outputId": "3f747302-a7da-4d4f-a053-80b50b1eff67"
      },
      "execution_count": null,
      "outputs": [
        {
          "output_type": "stream",
          "name": "stdout",
          "text": [
            "Ingrese número: 3\n",
            "3 es multiplo de 3 o divisor de 36\n"
          ]
        }
      ]
    },
    {
      "cell_type": "code",
      "source": [
        "# d) Determinar si un valor ingresado por el usuario es múltiplo de 3 y divisor de 36.\n",
        "\n",
        "def es_multiplo_divisor(numero):\n",
        "\n",
        "  numero = int(input('Ingrese número: '))\n",
        "\n",
        "  if numero % 3 == 0 and numero % 36 == 0:\n",
        "    print(f'{numero} es multiplo de 3 y divisor de 36')\n",
        "  else:\n",
        "    print(f'{numero} no es multiplo de 3 y divisor de 36')"
      ],
      "metadata": {
        "id": "lDlrPQx2nv1D"
      },
      "execution_count": null,
      "outputs": []
    },
    {
      "cell_type": "code",
      "source": [
        "es_multiplo_divisor(numero)"
      ],
      "metadata": {
        "colab": {
          "base_uri": "https://localhost:8080/"
        },
        "id": "TuvrYhxupWT7",
        "outputId": "9543f914-9379-49d0-8a64-e772fac65413"
      },
      "execution_count": null,
      "outputs": [
        {
          "output_type": "stream",
          "name": "stdout",
          "text": [
            "Ingrese número: 3\n",
            "3 no es multiplo de 3 y divisor de 36\n"
          ]
        }
      ]
    },
    {
      "cell_type": "markdown",
      "source": [
        "# Ejercicio 5\n",
        ">Implementar un programa que permita generar cuatro números aleatorios y calcule el promedio."
      ],
      "metadata": {
        "id": "BeebCFB4syvB"
      }
    },
    {
      "cell_type": "code",
      "source": [
        "from numpy import random\n",
        "\n",
        "lista = []\n",
        "suma = 0\n",
        "for i in range(4):\n",
        "  aleatorios = random.randint(0,100)\n",
        "  lista.append(aleatorios)\n",
        "  suma += aleatorios\n",
        "promedio = suma / len(lista)\n",
        "print( f'Los numeros aleatorios son: {lista} y el promedio es: {promedio} ')"
      ],
      "metadata": {
        "id": "_lv4Cw6gs4Bp",
        "colab": {
          "base_uri": "https://localhost:8080/"
        },
        "outputId": "0a534587-b710-4df4-917c-84e91583532c"
      },
      "execution_count": null,
      "outputs": [
        {
          "output_type": "stream",
          "name": "stdout",
          "text": [
            "Los numeros aleatorios son: [51, 51, 53, 67] y el promedio es: 55.5 \n"
          ]
        }
      ]
    },
    {
      "cell_type": "code",
      "source": [
        "from numpy import random\n",
        "\n",
        "x = random.randint(100, size=(4))\n",
        "promedio = sum(x) / len(x)\n",
        "\n",
        "print(f\"Números aleatorios: {x} Promedio: {promedio}\")"
      ],
      "metadata": {
        "colab": {
          "base_uri": "https://localhost:8080/"
        },
        "id": "a01LaYaUNa_-",
        "outputId": "728ba01b-84b3-48ce-de76-c28a764befe3"
      },
      "execution_count": null,
      "outputs": [
        {
          "output_type": "stream",
          "name": "stdout",
          "text": [
            "Números aleatorios: [91 79 47 87] Promedio: 76.0\n"
          ]
        }
      ]
    },
    {
      "cell_type": "markdown",
      "source": [
        "# Ejercicio 6\n",
        ">El lenguaje Pyhton provee diversas formas de utilizar cadenas para mostrar resultados en la\n",
        "pantalla. Considerando que se tienen las variables.\n",
        "```\n",
        "variables:\n",
        "marca = 'Motorola' modelo = 'G8' memoria = '3'\n",
        "```\n",
        "Indicar tres o más formas distintas de generar la frase “Su celular es el modelo G8 de la marca\n",
        "Motorola y tiene 3GB de RAM”."
      ],
      "metadata": {
        "id": "Kx3QPZZVs9vI"
      }
    },
    {
      "cell_type": "code",
      "source": [
        "marca = 'Motorola' \n",
        "modelo = 'G8' \n",
        "memoria = '3'\n",
        "\n",
        "print(f\"Su celular es el modelo {modelo} de la marca {marca} y tiene {memoria}GB de RAM\")\n",
        "\n",
        "print(\"Su celular es el modelo\",modelo,\"de la marca\",marca,\"y tiene\",memoria + \"GB de RAM\")\n",
        "\n",
        "print(\"Su celular es el modelo {} de la marca {} y tiene {}GB de RAM\" .format(modelo, marca, memoria))"
      ],
      "metadata": {
        "id": "kW1o8M1ftIH4",
        "colab": {
          "base_uri": "https://localhost:8080/"
        },
        "outputId": "1874eaeb-59cb-47b1-cfc2-f8267fcf935a"
      },
      "execution_count": null,
      "outputs": [
        {
          "output_type": "stream",
          "name": "stdout",
          "text": [
            "Su celular es el modelo G8 de la marca Motorola y tiene 3GB de RAM\n",
            "Su celular es el modelo G8 de la marca Motorola y tiene 3GB de RAM\n",
            "Su celular es el modelo G8 de la marca Motorola y tiene 3GB de RAM\n"
          ]
        }
      ]
    },
    {
      "cell_type": "markdown",
      "source": [
        "# Ejercicio 7\n",
        ">En una aplicación para generar una cuenta de usuario, se aplica una serie de controles para que el\n",
        "usuario ingrese su nombre de usuario de manera correcta, teniendo en cuenta que debe respetar las\n",
        "siguientes condiciones.\n",
        "```\n",
        "a) Debe contener al menos 6 caracteres.\n",
        "b) Debe comenzar con una letra mayúscula y todas las demás en minúsculas.\n",
        "c) No debe tener espacios al comienzo ni al final.\n",
        "d) No puede contener números.\n",
        "```\n",
        "Indicar las expresiones necesarias para realizar cada uno de los controles sobre la variable\n",
        "nombreUsuario. Luego implementar un programa que permita al usuario ingresar el nombre deseado\n",
        "e indicar si es correcto o no cumple alguna de las condiciones solicitadas.\n",
        "Agregar al menos dos condiciones más (a elección) e implementarlas junto a las anteriores."
      ],
      "metadata": {
        "id": "FgybiiqBkSHY"
      }
    },
    {
      "cell_type": "code",
      "source": [
        "# a) Debe contener al menos 6 caracteres.\n",
        "\n",
        "usuario = input(\"Nombre de usuario: \")\n",
        "\n",
        "if len(usuario) < 6:\n",
        "  print(\"Debe contener al menos 6 caracteres\")\n",
        "  print(\"Cantidad:\",len(usuario))\n",
        "else:\n",
        "  print(\"El nombre de usuario \" + usuario.title() + \" es correcto.\")"
      ],
      "metadata": {
        "colab": {
          "base_uri": "https://localhost:8080/"
        },
        "id": "hwLtK-_lkllK",
        "outputId": "7a9d59ac-8faf-46d7-8b19-5c710ad80902"
      },
      "execution_count": null,
      "outputs": [
        {
          "output_type": "stream",
          "name": "stdout",
          "text": [
            "Nombre de usuario: juan manuel\n",
            "El nombre de usuario Juan Manuel es correcto.\n"
          ]
        }
      ]
    },
    {
      "cell_type": "code",
      "source": [
        "# b) Debe comenzar con una letra mayúscula y todas las demás en minúsculas.\n",
        "\n",
        "usuario = input(\"Nombre de usuario: \")\n",
        "\n",
        "if usuario == usuario.capitalize():\n",
        "  print(f\"El nombre de usuario {usuario} es correcto.\")\n",
        "else:\n",
        "  print(\"Debe comenzar con una letra mayúscula y todas las demás en minúsculas.\")"
      ],
      "metadata": {
        "id": "ZFUYXN3QnH9B",
        "colab": {
          "base_uri": "https://localhost:8080/"
        },
        "outputId": "7ed30ea4-c61d-46b9-b824-9f9377552afd"
      },
      "execution_count": null,
      "outputs": [
        {
          "output_type": "stream",
          "name": "stdout",
          "text": [
            "Nombre de usuario: Juan manuel\n",
            "El nombre de usuario Juan manuel es correcto.\n"
          ]
        }
      ]
    },
    {
      "cell_type": "code",
      "source": [
        "# c) No debe tener espacios al comienzo ni al final.\n",
        "\n",
        "usuario = input(\"Nombre de usuario: \")\n",
        "\n",
        "if usuario.startswith(\" \") or usuario.endswith(\" \"):\n",
        "  print(\"No debe tener espacios al comienzo ni al final.\")\n",
        "else:\n",
        "  print(f\"El nombre de usuario {usuario.title()} es correcto.\")"
      ],
      "metadata": {
        "colab": {
          "base_uri": "https://localhost:8080/"
        },
        "id": "WS9iM6SVy9m3",
        "outputId": "bf288d7f-d240-475a-f3d6-5d7992005de2"
      },
      "execution_count": null,
      "outputs": [
        {
          "output_type": "stream",
          "name": "stdout",
          "text": [
            "Nombre de usuario: juan manuel\n",
            "El nombre de usuario Juan Manuel es correcto.\n"
          ]
        }
      ]
    },
    {
      "cell_type": "code",
      "source": [
        "usuario = input(\"Nombre de usuario: \")\n",
        "\n",
        "if usuario == usuario.strip():\n",
        "  print(f\"El nombre de usuario {usuario.title()} es correcto.\")\n",
        "else:\n",
        "  print(\"No debe tener espacios al comienzo ni al final.\")"
      ],
      "metadata": {
        "colab": {
          "base_uri": "https://localhost:8080/"
        },
        "id": "kkO36XGxJX2u",
        "outputId": "62b980f9-c1bf-4ac6-ebe9-19ca93bf914e"
      },
      "execution_count": null,
      "outputs": [
        {
          "output_type": "stream",
          "name": "stdout",
          "text": [
            "Nombre de usuario: juan manuel\n",
            "El nombre de usuario Juan Manuel es correcto.\n"
          ]
        }
      ]
    },
    {
      "cell_type": "code",
      "source": [
        "# d) No puede contener números.\n",
        "\n",
        "usuario = input(\"Nombre de usuario: \")\n",
        "\n",
        "scan = False\n",
        "\n",
        "for i in usuario:\n",
        "  if i.isnumeric() == True:\n",
        "    scan = True\n",
        "    break\n",
        "\n",
        "if scan == False:\n",
        "  print(\"El nombre de usuario {} es correcto.\" .format(usuario.title()))\n",
        "else:\n",
        "  print(\"No puede contener números.\")"
      ],
      "metadata": {
        "id": "uhkQ-y4q6iiW",
        "colab": {
          "base_uri": "https://localhost:8080/"
        },
        "outputId": "dc292b91-bd8d-4916-ec3a-3147d2714c82"
      },
      "execution_count": null,
      "outputs": [
        {
          "output_type": "stream",
          "name": "stdout",
          "text": [
            "Nombre de usuario: juan manuel roccia data science genius\n",
            "El nombre de usuario Juan Manuel Roccia Data Science Genius es correcto.\n"
          ]
        }
      ]
    },
    {
      "cell_type": "markdown",
      "source": [
        "Programa para ingresar **nombreUsuario** con las condiciones solicitadas + dos condiciones más (a elección):"
      ],
      "metadata": {
        "id": "649_Wew08Qj9"
      }
    },
    {
      "cell_type": "code",
      "source": [
        "# Version Carlos\n",
        "\n",
        "repeat = True\n",
        "while repeat:\n",
        "  userName = input(\"Nombre de usuario: \")\n",
        "  sixCharacters = False\n",
        "  withMayus = False\n",
        "  withoutSpace = False\n",
        "  withoutNumbers = False\n",
        "\n",
        "  if len(userName) >= 6: # a) Debe contener al menos 6 caracteres.\n",
        "    sixCharacters = True\n",
        "\n",
        "  if userName == userName.capitalize(): # b) Debe comenzar con una letra mayúscula y todas las demás en minúsculas.\n",
        "    withMayus = True\n",
        "  \n",
        "  if userName == userName.strip(): # c) No debe tener espacios al comienzo ni al final.\n",
        "    withoutSpace = True\n",
        "  \n",
        "  numbers = False # d) No puede contener números.\n",
        "  for i in userName:\n",
        "    if i.isnumeric() == True:\n",
        "      numbers = True\n",
        "      break\n",
        "  if numbers == False:\n",
        "    withoutNumbers = True\n",
        "  \n",
        "  if sixCharacters and withMayus and withoutSpace and withoutNumbers:\n",
        "    print(\"El nombre de usuario '{}' es correcto\" .format(userName))\n",
        "    repeat = False\n",
        "  else:\n",
        "    print(f\"El nombre de usuario '{userName}' no cmuple las condiciones.\")"
      ],
      "metadata": {
        "colab": {
          "base_uri": "https://localhost:8080/"
        },
        "id": "Ve4_Pgy4G-Ed",
        "outputId": "8e594a4f-41e9-49e9-bcc3-6a8927cfb112"
      },
      "execution_count": null,
      "outputs": [
        {
          "output_type": "stream",
          "name": "stdout",
          "text": [
            "Nombre de usuario: juan manuel\n",
            "El nombre de usuario 'juan manuel' no cmuple las condiciones.\n",
            "Nombre de usuario: Juan manuel\n",
            "El nombre de usuario 'Juan manuel' es correcto\n"
          ]
        }
      ]
    },
    {
      "cell_type": "code",
      "source": [
        "# Username registration program:\n",
        "\n",
        "repeat = True\n",
        "while repeat:\n",
        "  username = input(\"Nombre de usuario: \")\n",
        "  sixCharacters = False\n",
        "  withMayus = False\n",
        "  withoutSpace = False\n",
        "  withoutNumbers = False\n",
        "\n",
        "  if len(username) >= 6: # a) Debe contener al menos 6 caracteres.\n",
        "    sixCharacters = True\n",
        "\n",
        "  if username == username.capitalize(): # b) Debe comenzar con una letra mayúscula y todas las demás en minúsculas.\n",
        "    withMayus = True\n",
        "  \n",
        "  if username == username.strip(): # c) No debe tener espacios al comienzo ni al final.\n",
        "    withoutSpace = True\n",
        "  \n",
        "  numbers = False # d) No puede contener números.\n",
        "  for i in username:\n",
        "    if i.isnumeric() == True:\n",
        "      numbers = True\n",
        "      break\n",
        "  if numbers == False:\n",
        "    withoutNumbers = True\n",
        "\n",
        "  # Si el usuario es válido: \n",
        "  if sixCharacters and withMayus and withoutSpace and withoutNumbers:\n",
        "    print(\"El nombre de usuario '{}' es correcto\" .format(username))\n",
        "    repeat = False\n",
        "  # pero si no:\n",
        "  else:\n",
        "    print(f\"El nombre de usuario '{username}' no cmuple las condiciones.\") # Complementario a las condiciones.\n",
        "\n",
        "  # Condiciones si el usuario no es válido:\n",
        "  if sixCharacters == False: \n",
        "    print(\"Debe contener al menos 6 caracteres\")\n",
        "  if withMayus == False:\n",
        "    print(\"Debe comenzar con una letra mayúscula y todas las demás en minúsculas.\")\n",
        "  if withoutSpace == False:\n",
        "    print(\"No debe tener espacios al comienzo ni al final.\")\n",
        "  if withoutNumbers == False:\n",
        "    print(\"No puede contener números.\")"
      ],
      "metadata": {
        "colab": {
          "base_uri": "https://localhost:8080/"
        },
        "id": "J2nycph1M9IN",
        "outputId": "0cbb6d8f-9fe0-409a-e1fa-6f77a08b0080"
      },
      "execution_count": null,
      "outputs": [
        {
          "output_type": "stream",
          "name": "stdout",
          "text": [
            "Nombre de usuario:  J7\n",
            "El nombre de usuario ' J7' no cmuple las condiciones.\n",
            "Debe contener al menos 6 caracteres\n",
            "Debe comenzar con una letra mayúscula y todas las demás en minúsculas.\n",
            "No debe tener espacios al comienzo ni al final.\n",
            "No puede contener números.\n",
            "Nombre de usuario: Juanroccia\n",
            "El nombre de usuario 'Juanroccia' es correcto\n"
          ]
        }
      ]
    },
    {
      "cell_type": "markdown",
      "source": [
        "# Ejercicio 8\n",
        ">Implementar un programa que permita al usuario ingresar tres valores: valorInicial, valorFinal y salto.\n",
        "En base a esos tres valores, mostrar la lista de todos los números a partir de valorInicial de salto en\n",
        "salto hasta valorFinal. Resolver el ejercicio utilizando la estructura de control for y luego la estructura\n",
        "de control while.\n",
        "```\n",
        "Ejemplo: si valorInicial = 10, valorFinal = 30 y salto = 5, se deberán mostrar los números “a partir de\n",
        "10, de 5 en 5 hasta llegar a 20”, es decir: 10, 15, 20, 25, 30.\n",
        "```"
      ],
      "metadata": {
        "id": "w3b4KBd1Zcgi"
      }
    },
    {
      "cell_type": "code",
      "source": [
        "# Estructura de control for:\n",
        "start = int(input(\"Ingrese valor inicial: \"))\n",
        "\n",
        "stop = int(input(\"Ingrese valor final: \"))\n",
        "\n",
        "step = int(input(\"Ingrese valor de saltos: \"))\n",
        "\n",
        "mylist = []\n",
        "\n",
        "for i in range(start, stop+step, step):\n",
        "  mylist.append(i)\n",
        "print(mylist)"
      ],
      "metadata": {
        "colab": {
          "base_uri": "https://localhost:8080/"
        },
        "id": "4ypDdUmWZ0Sf",
        "outputId": "1c8b02df-6303-4784-8ab1-250c4ce3770b"
      },
      "execution_count": null,
      "outputs": [
        {
          "output_type": "stream",
          "name": "stdout",
          "text": [
            "Ingrese valor inicial: 10\n",
            "Ingrese valor final: 30\n",
            "Ingrese valor de saltos: 5\n",
            "[10, 15, 20, 25, 30]\n"
          ]
        }
      ]
    },
    {
      "cell_type": "code",
      "source": [
        "# Estructura de control while:\n",
        "start = int(input(\"Ingrese valor inicial: \"))\n",
        "\n",
        "stop = int(input(\"Ingrese valor final: \"))\n",
        "\n",
        "step = int(input(\"Ingrese valor de saltos: \"))\n",
        "\n",
        "mylist = []\n",
        "while stop not in mylist:\n",
        "  mylist.append(start)\n",
        "  start += step\n",
        "print(mylist)"
      ],
      "metadata": {
        "colab": {
          "base_uri": "https://localhost:8080/"
        },
        "id": "s1jvXdjHjQGY",
        "outputId": "56572e1c-487a-4879-a925-8ade696e8809"
      },
      "execution_count": null,
      "outputs": [
        {
          "output_type": "stream",
          "name": "stdout",
          "text": [
            "Ingrese valor inicial: 10\n",
            "Ingrese valor final: 30\n",
            "Ingrese valor de saltos: 5\n",
            "[10, 15, 20, 25, 30]\n"
          ]
        }
      ]
    },
    {
      "cell_type": "code",
      "source": [
        "start = 10\n",
        "stop = 30\n",
        "step = 5\n",
        "len(range(start,stop,step))"
      ],
      "metadata": {
        "colab": {
          "base_uri": "https://localhost:8080/"
        },
        "id": "2GYlaHkwHbYN",
        "outputId": "be323ffc-46a3-4015-ad1c-d7b48550b42d"
      },
      "execution_count": null,
      "outputs": [
        {
          "output_type": "execute_result",
          "data": {
            "text/plain": [
              "4"
            ]
          },
          "metadata": {},
          "execution_count": 41
        }
      ]
    },
    {
      "cell_type": "markdown",
      "source": [
        "# Ejercicio 9\n",
        ">Implementar un programa que permita ingresar valores enteros positivos. El ingreso termina cuando\n",
        "el usuario no desee ingresar más valores, para lo cual se deberá definir un criterio que indique esta\n",
        "decisión. Luego deberá calcular y mostrar el promedio, la cantidad de valores ingresados, el mayor y\n",
        "menor valor.\n"
      ],
      "metadata": {
        "id": "46NLsN-zgn5g"
      }
    },
    {
      "cell_type": "code",
      "source": [
        "print(f'\\033[1m Ingresar valores enteros positivos \\033[0m \\n')\n",
        "numbers = input(\"Para finalizar presione enter al vacio: \")\n",
        "\n",
        "mylist = []\n",
        "mylist_int = []\n",
        "values = True\n",
        "\n",
        "while values:\n",
        "  mylist.append(numbers)\n",
        "  numbers = input()\n",
        "  if numbers == \"\":\n",
        "    values = False\n",
        "\n",
        "for x in mylist:\n",
        "  mylist_int.append(int(x))\n",
        "\n",
        "if values == False:\n",
        "  print(f\"{len(mylist)} es La cantidad de valores ingresados.\")\n",
        "  average = sum(mylist_int) / len(mylist_int)\n",
        "  print(\"El promedio es: {}\".format(average))\n",
        "  print(\"{} es el mayor en la lista.\".format(max(mylist)))\n",
        "  print(\"El menor en la lista es \",min(mylist))"
      ],
      "metadata": {
        "id": "-1yx5l9yg5E0",
        "colab": {
          "base_uri": "https://localhost:8080/"
        },
        "outputId": "176fdd86-dc1a-4e2f-d3a3-36e98d6db7ac"
      },
      "execution_count": null,
      "outputs": [
        {
          "output_type": "stream",
          "name": "stdout",
          "text": [
            "\u001b[1m Ingresar valores enteros positivos \u001b[0m \n",
            "\n",
            "Para finalizar presione enter al vacio: 10\n",
            "5\n",
            "20\n",
            "35\n",
            "\n",
            "4 es La cantidad de valores ingresados.\n",
            "El promedio es: 17.5\n",
            "5 es el mayor en la lista.\n",
            "El menor en la lista es  10\n"
          ]
        }
      ]
    },
    {
      "cell_type": "markdown",
      "source": [
        "# Ejercicio 10\n",
        ">a) Crear una lista que contenga valores enteros desde 3 a 12 incluidos. Utilizar el identificador\n",
        "listaNumeros.\n",
        "b) Indicar el resultado de las siguientes operaciones realizadas sobre la lista del inciso anterior:\n",
        "```\n",
        "i) x = len(listaNumeros)\n",
        "ii) x = listaNumeros[3]\n",
        "iii) x = listaNumeros[:3]\n",
        "iv) x = listaNumeros[3:]\n",
        "v) x = listaNumeros[3:6]\n",
        "vi) x = listaNumeros[1:8:2]\n",
        "vii) x = listaNumeros[-1]\n",
        "viii) x = listaNumeros[-6:-2]\n",
        "ix) x = listaNumeros[ : : -1]\n",
        "```\n",
        "\n"
      ],
      "metadata": {
        "id": "OFYohSPG8p6J"
      }
    },
    {
      "cell_type": "code",
      "source": [
        "# a) Crear una lista que contenga valores enteros desde 3 a 12 incluidos.\n",
        "listaNumeros = list(range(3,13))\n",
        "print(mylist)"
      ],
      "metadata": {
        "colab": {
          "base_uri": "https://localhost:8080/"
        },
        "id": "GaMuTivVAjVP",
        "outputId": "5d938bbc-226d-4c66-a46b-926e4a8463b1"
      },
      "execution_count": null,
      "outputs": [
        {
          "output_type": "stream",
          "name": "stdout",
          "text": [
            "[3, 4, 5, 6, 7, 8, 9, 10, 11, 12]\n"
          ]
        }
      ]
    },
    {
      "cell_type": "code",
      "source": [
        "# b) Indicar el resultado de las siguientes operaciones realizadas sobre la lista del inciso anterior.\n",
        "\n",
        "x = len(listaNumeros)       # i) Cantidad de items que compone la lista.\n",
        "print(x)\n",
        "x = listaNumeros[3]         # ii) Posición 3 de la lista, cuyo item es el numero 6.\n",
        "print(x)\n",
        "x = listaNumeros[:3]        # iii) Guarda primeros 3 items de la lista.\n",
        "print(x)\n",
        "x = listaNumeros[3:]        # iv) Corta hasta la posicion 3 de la lista.\n",
        "print(x)\n",
        "x = listaNumeros[3:6]       # v) Corta desde la posicion 3 y hasta la 6.\n",
        "print(x)\n",
        "x = listaNumeros[1:8:2]     # iv) Mismo que el anterior pero con un step de 2 en 2.\n",
        "print(x)\n",
        "x = listaNumeros[-1]        # iiv) Corta desde el anteúltimo item de la lista.\n",
        "print(x)\n",
        "x = listaNumeros[-6:-2]     # viii) Corta desde -6 hasta -2 excluido.\n",
        "print(x)\n",
        "x = listaNumeros[ : : -1]   # ix) Invierte la lista desde la posicion dada.\n",
        "print(x)"
      ],
      "metadata": {
        "colab": {
          "base_uri": "https://localhost:8080/"
        },
        "id": "vv4MtD9PIbvM",
        "outputId": "64091296-3bc7-4f7f-94b5-1c0b56c3be7d"
      },
      "execution_count": null,
      "outputs": [
        {
          "output_type": "stream",
          "name": "stdout",
          "text": [
            "10\n",
            "6\n",
            "[3, 4, 5]\n",
            "[6, 7, 8, 9, 10, 11, 12]\n",
            "[6, 7, 8]\n",
            "[4, 6, 8, 10]\n",
            "12\n",
            "[7, 8, 9, 10]\n",
            "[12, 11, 10, 9, 8, 7, 6, 5, 4, 3]\n"
          ]
        }
      ]
    },
    {
      "cell_type": "markdown",
      "source": [
        "# Ejercicio 11\n",
        ">Considerar que se tiene una lista1 = [7, 4, 5, 3] Indicar el resultado de realizar las siguientes\n",
        "operaciones en forma consecutiva. Es decir, la instrucción del inciso ii se aplica sobre el resultado del\n",
        "inciso i y así sucesivamente.\n",
        "```\n",
        "i) lista1.append(6)\n",
        "ii) lista1[2] = 10\n",
        "iii) lista1.insert(3, 8)\n",
        "iv) lista1.remove(4)\n",
        "v) lista1.pop(2)\n",
        "vi) lista1.extend([1, 2])\n",
        "vii) lista1.reverse()\n",
        "viii) lista1.sort()\n",
        "ix) lista1.reverse()\n",
        "x) lista1.clear()\n",
        "xi) lista1.pop()\n",
        "```"
      ],
      "metadata": {
        "id": "XxoAqD4fSur5"
      }
    },
    {
      "cell_type": "code",
      "source": [
        "lista1 = [7, 4, 5, 3]\n",
        "print(lista1)\n",
        "lista1.append(6)         # i) Agrega un 6 al final de la lista.\n",
        "print(lista1)\n",
        "lista1[2] = 10           # ii) Reemplaza la posicion 2 por un 10.\n",
        "print(lista1)\n",
        "lista1.insert(3, 8)      # iii) Agrega un 8 en la posicion 3 sin reemplazar.\n",
        "print(lista1)\n",
        "lista1.remove(4)         # iv) Borra el item 4.\n",
        "print(lista1)\n",
        "lista1.pop(2)            # v) Borra la posicion 2.\n",
        "print(lista1)\n",
        "lista1.extend([1, 2])    # vi) Agrega el iterable al final de la lista, es decir, item 1 y 2.\n",
        "print(lista1)\n",
        "lista1.reverse()         # vii) Invierte la lista.\n",
        "print(lista1)\n",
        "lista1.sort()            # viii) Ordena de menor a mayor.\n",
        "print(lista1)\n",
        "lista1.reverse()         # ix) Ivierte la lista, por lo tanto queda de mayor a menor.\n",
        "print(lista1)\n",
        "lista1.clear()           # x) Limpia la lista.\n",
        "print(lista1)\n",
        "lista1.pop()             # xi) Por defecto borra el ultimo item de la lista,\n",
        "print(lista1)            #     pero al estar vacia salta un error."
      ],
      "metadata": {
        "colab": {
          "base_uri": "https://localhost:8080/",
          "height": 408
        },
        "id": "-SqMOH0rTvAe",
        "outputId": "19bbe37b-69f5-4400-a1a6-22aec76381c1"
      },
      "execution_count": null,
      "outputs": [
        {
          "output_type": "stream",
          "name": "stdout",
          "text": [
            "[7, 4, 5, 3]\n",
            "[7, 4, 5, 3, 6]\n",
            "[7, 4, 10, 3, 6]\n",
            "[7, 4, 10, 8, 3, 6]\n",
            "[7, 10, 8, 3, 6]\n",
            "[7, 10, 3, 6]\n",
            "[7, 10, 3, 6, 1, 2]\n",
            "[2, 1, 6, 3, 10, 7]\n",
            "[1, 2, 3, 6, 7, 10]\n",
            "[10, 7, 6, 3, 2, 1]\n",
            "[]\n"
          ]
        },
        {
          "output_type": "error",
          "ename": "IndexError",
          "evalue": "ignored",
          "traceback": [
            "\u001b[0;31m---------------------------------------------------------------------------\u001b[0m",
            "\u001b[0;31mIndexError\u001b[0m                                Traceback (most recent call last)",
            "\u001b[0;32m<ipython-input-104-1a86b5b6cc4e>\u001b[0m in \u001b[0;36m<module>\u001b[0;34m\u001b[0m\n\u001b[1;32m     21\u001b[0m \u001b[0mlista1\u001b[0m\u001b[0;34m.\u001b[0m\u001b[0mclear\u001b[0m\u001b[0;34m(\u001b[0m\u001b[0;34m)\u001b[0m           \u001b[0;31m# x) Limpia la lista.\u001b[0m\u001b[0;34m\u001b[0m\u001b[0;34m\u001b[0m\u001b[0m\n\u001b[1;32m     22\u001b[0m \u001b[0mprint\u001b[0m\u001b[0;34m(\u001b[0m\u001b[0mlista1\u001b[0m\u001b[0;34m)\u001b[0m\u001b[0;34m\u001b[0m\u001b[0;34m\u001b[0m\u001b[0m\n\u001b[0;32m---> 23\u001b[0;31m \u001b[0mlista1\u001b[0m\u001b[0;34m.\u001b[0m\u001b[0mpop\u001b[0m\u001b[0;34m(\u001b[0m\u001b[0;34m)\u001b[0m             \u001b[0;31m# xi) Agrega un 6 al final de la lista\u001b[0m\u001b[0;34m\u001b[0m\u001b[0;34m\u001b[0m\u001b[0m\n\u001b[0m\u001b[1;32m     24\u001b[0m \u001b[0mprint\u001b[0m\u001b[0;34m(\u001b[0m\u001b[0mlista1\u001b[0m\u001b[0;34m)\u001b[0m\u001b[0;34m\u001b[0m\u001b[0;34m\u001b[0m\u001b[0m\n",
            "\u001b[0;31mIndexError\u001b[0m: pop from empty list"
          ]
        }
      ]
    },
    {
      "cell_type": "markdown",
      "source": [
        "# Ejercicio 12\n",
        "> a) Implementar una función que permita extraer la última cifra de un número entero positivo (es\n",
        "decir, la cifra de unidad).\n",
        "b) Implementar una función que permita extraer todas las cifras excepto la última cifra de un número\n",
        "entero positivo (es decir, todas menos la cifra de unidad).\n",
        "c) Implementar una función que devuelva la cantidad de cifras que contiene un número entero\n",
        "positivo.\n"
      ],
      "metadata": {
        "id": "Us83xKa4c97A"
      }
    },
    {
      "cell_type": "code",
      "source": [
        "# Extraer ultima cifra.\n",
        "num = 123456\n",
        "num = str(num)\n",
        "num[-1]\n",
        "\n",
        "def ultimaCifra(num):\n",
        "  num = str(num)\n",
        "  return num[-1]\n",
        "\n",
        "ultimaCifra(123456)"
      ],
      "metadata": {
        "id": "H5aNsSg7dBe8",
        "colab": {
          "base_uri": "https://localhost:8080/",
          "height": 35
        },
        "outputId": "518a91e1-bec0-41fe-9ffb-3ffc0f5ba229"
      },
      "execution_count": null,
      "outputs": [
        {
          "output_type": "execute_result",
          "data": {
            "text/plain": [
              "'6'"
            ],
            "application/vnd.google.colaboratory.intrinsic+json": {
              "type": "string"
            }
          },
          "metadata": {},
          "execution_count": 6
        }
      ]
    },
    {
      "cell_type": "code",
      "source": [
        "# Extraer todo menos la ultima cifra.\n",
        "num = 123456\n",
        "num = str(num)\n",
        "num[slice(-1)]\n",
        "\n",
        "def menos_ultimaCifra(num):\n",
        "  num = str(num)\n",
        "  return num[slice(-1)]\n",
        "\n",
        "menos_ultimaCifra(123456)"
      ],
      "metadata": {
        "colab": {
          "base_uri": "https://localhost:8080/",
          "height": 35
        },
        "id": "-Lizhth_4T6R",
        "outputId": "958f8d77-8d4c-4738-d401-65694b4d49bb"
      },
      "execution_count": null,
      "outputs": [
        {
          "output_type": "execute_result",
          "data": {
            "text/plain": [
              "'12345'"
            ],
            "application/vnd.google.colaboratory.intrinsic+json": {
              "type": "string"
            }
          },
          "metadata": {},
          "execution_count": 7
        }
      ]
    },
    {
      "cell_type": "code",
      "source": [
        "# Implementar una función que devuelva la cantidad de cifras que contiene un número entero positivo.\n",
        "num = 654321\n",
        "num = str(num)\n",
        "len(num)\n",
        "\n",
        "def long(num):\n",
        "  num = str(num)\n",
        "  return len(num)\n",
        "\n",
        "long(654123)"
      ],
      "metadata": {
        "id": "pkMp5SNI4198",
        "colab": {
          "base_uri": "https://localhost:8080/"
        },
        "outputId": "c56ac064-0d6d-4260-f25d-f067ff88cab5"
      },
      "execution_count": null,
      "outputs": [
        {
          "output_type": "execute_result",
          "data": {
            "text/plain": [
              "6"
            ]
          },
          "metadata": {},
          "execution_count": 10
        }
      ]
    },
    {
      "cell_type": "markdown",
      "source": [
        "# Ejercicio 13\n",
        "> Implementar una función contieneCifra(numero, cifra), que devuelva un valor booleano\n",
        "indicando si la cifra aparece en el número dado.\n",
        "```\n",
        "Ejemplos: b = contieneCifra(123, 2) # True b = contieneCifra(123, 5) # False\n",
        "```\n",
        "\n"
      ],
      "metadata": {
        "id": "caaxXQiSCdx3"
      }
    },
    {
      "cell_type": "code",
      "source": [
        "def contieneCifra(numero, cifra):\n",
        "  numero = str(numero)\n",
        "  cifra = str(cifra)\n",
        "  if cifra in numero:\n",
        "    return True\n",
        "  else:\n",
        "    return False\n",
        "\n",
        "contieneCifra(125,4)"
      ],
      "metadata": {
        "colab": {
          "base_uri": "https://localhost:8080/"
        },
        "id": "Ll2FTX7vCtdu",
        "outputId": "2275f541-ff47-4baa-ee20-5a862cf8b553"
      },
      "execution_count": null,
      "outputs": [
        {
          "output_type": "execute_result",
          "data": {
            "text/plain": [
              "False"
            ]
          },
          "metadata": {},
          "execution_count": 30
        }
      ]
    },
    {
      "cell_type": "code",
      "source": [
        "def contieneCifra(numero, cifra):\n",
        "  for i in str(numero):\n",
        "    if i == str(cifra):\n",
        "      return True\n",
        "    else:\n",
        "      return False\n",
        "\n",
        "contieneCifra(125,7)"
      ],
      "metadata": {
        "colab": {
          "base_uri": "https://localhost:8080/"
        },
        "id": "fwIEALoALFon",
        "outputId": "7ed92ad3-621a-4c92-9949-c59f72924103"
      },
      "execution_count": null,
      "outputs": [
        {
          "output_type": "execute_result",
          "data": {
            "text/plain": [
              "False"
            ]
          },
          "metadata": {},
          "execution_count": 32
        }
      ]
    },
    {
      "cell_type": "markdown",
      "source": [
        "# Ejercicio 14\n",
        "> a) Implementar una función de devuelva el mayor de dos números reales.\n",
        "b) Utilizando la solución del inciso anterior, implementar una función que devuelva el mayor\n",
        "de tres números reales.\n"
      ],
      "metadata": {
        "id": "dcPhP54ZLsKb"
      }
    },
    {
      "cell_type": "code",
      "source": [
        "# Funcion que devuelve el mayor de 2 numeros reales.\n",
        "def mayor(num1,num2):\n",
        "  lista = [num1,num2]\n",
        "  return print(\"El mayor es:\", max(lista))\n",
        "mayor(-5,-3/2)"
      ],
      "metadata": {
        "colab": {
          "base_uri": "https://localhost:8080/"
        },
        "id": "4XRM7NixLv7D",
        "outputId": "7bc03f50-04c4-4e72-cd21-daf89ac3b60a"
      },
      "execution_count": null,
      "outputs": [
        {
          "output_type": "stream",
          "name": "stdout",
          "text": [
            "El mayor es: -1.5\n"
          ]
        }
      ]
    },
    {
      "cell_type": "code",
      "source": [
        "# función que devuelve el mayor de tres números reales.\n",
        "def mayor(num1,num2,num3):\n",
        "  lista = [num1,num2,num3]\n",
        "  return print(\"El mayor es:\", max(lista))\n",
        "mayor(-2,-3/2,1.7)"
      ],
      "metadata": {
        "colab": {
          "base_uri": "https://localhost:8080/"
        },
        "id": "mVKlriswW2BG",
        "outputId": "63c782c5-5c58-4b22-8480-231cb039ae2c"
      },
      "execution_count": null,
      "outputs": [
        {
          "output_type": "stream",
          "name": "stdout",
          "text": [
            "El mayor es: 1.7\n"
          ]
        }
      ]
    },
    {
      "cell_type": "markdown",
      "source": [
        "# Ejercicio 15\n",
        "> Implementar las funciones necesarias para realizar las siguientes operaciones de un\n",
        "software que permite trabajar con polinomios cuadráticos."
      ],
      "metadata": {
        "id": "3h9AjgSbXZAe"
      }
    },
    {
      "cell_type": "markdown",
      "source": [
        "> a. A partir de los coeficientes de la forma polinómica, implementar una función que genere\n",
        "una cadena de caracteres con la expresión correspondiente.\n",
        "```\n",
        "Ejemplo: si a=2,b=4,c=5, generar la cadena “P(x)=2*x^2 + 4*x + 5”.\n",
        "```"
      ],
      "metadata": {
        "id": "K98ijMAHw4ki"
      }
    },
    {
      "cell_type": "code",
      "source": [
        "# a. Función polinómica.\n",
        "def cadenaPolinomica(a,b,c):\n",
        "  return f\"P(x)= {a}*x^2 + {b}*x + {c}\"\n",
        "cadenaPolinomica(6,10,1)"
      ],
      "metadata": {
        "colab": {
          "base_uri": "https://localhost:8080/",
          "height": 35
        },
        "id": "PzUDtOWNXnlu",
        "outputId": "ba5eb56d-236d-401f-bb5a-92d4f65667cf"
      },
      "execution_count": null,
      "outputs": [
        {
          "output_type": "execute_result",
          "data": {
            "text/plain": [
              "'P(x)= 6*x^2 + 10*x + 1'"
            ],
            "application/vnd.google.colaboratory.intrinsic+json": {
              "type": "string"
            }
          },
          "metadata": {},
          "execution_count": 21
        }
      ]
    },
    {
      "cell_type": "markdown",
      "source": [
        "> b. A partir de los coeficientes de la forma polinómica, determinar si tiene raíces reales y en\n",
        "caso afirmativo calcularlas."
      ],
      "metadata": {
        "id": "_rmBwbp_ZLRG"
      }
    },
    {
      "cell_type": "code",
      "source": [
        "# Determinar si tiene raíces reales y en caso afirmativo calcularlas.\n",
        "a = 6\n",
        "b = 10\n",
        "c = -1\n",
        "discriminante = b**2-4*a*c\n",
        "if discriminante > 0:\n",
        "  # Formula bhaskara.\n",
        "  x1 = ( (-b + (b**2-4*a*c)**(1/2))/(2*a) )\n",
        "  x2 = ( (-b - (b**2-4*a*c)**(1/2))/(2*a) )\n",
        "  print(x1)\n",
        "  print(x2)\n",
        "print(discriminante)"
      ],
      "metadata": {
        "colab": {
          "base_uri": "https://localhost:8080/"
        },
        "id": "ZtooNcdqZXc9",
        "outputId": "3a5d2e82-dbad-467c-c97a-bd618d0fa399"
      },
      "execution_count": null,
      "outputs": [
        {
          "output_type": "stream",
          "name": "stdout",
          "text": [
            "0.09462739380500358\n",
            "-1.7612940604716705\n",
            "124\n"
          ]
        }
      ]
    },
    {
      "cell_type": "markdown",
      "source": [
        "> c. Usando el subprograma del inciso anterior, generar una cadena de caracteres con la forma\n",
        "factorizada.\n",
        "```\n",
        "Ejemplo: si a=6 y las raíces son x1=2, x2=5, generar la cadena “P(x)=6(x-2)(x-5)”\n",
        "```"
      ],
      "metadata": {
        "id": "4F7EFJ61ZX51"
      }
    },
    {
      "cell_type": "code",
      "source": [
        "# a. Función factorizada.\n",
        "def cadenaFactorizada(a,x1,x2):\n",
        "  return \"P(x)= {}*(x-{})*(x-{})\".format(a,x1,x2)\n",
        "cadenaFactorizada(6,0,-1)"
      ],
      "metadata": {
        "id": "vdGm8xF_Zbev",
        "colab": {
          "base_uri": "https://localhost:8080/",
          "height": 35
        },
        "outputId": "de5b399c-552a-436d-b809-a2047c2e6636"
      },
      "execution_count": null,
      "outputs": [
        {
          "output_type": "execute_result",
          "data": {
            "text/plain": [
              "'P(x)= 6*(x-0)*(x--1)'"
            ],
            "application/vnd.google.colaboratory.intrinsic+json": {
              "type": "string"
            }
          },
          "metadata": {},
          "execution_count": 23
        }
      ]
    },
    {
      "cell_type": "markdown",
      "source": [
        "> d. Implementar una función que permita evaluar el polinomio en un valor de x dado."
      ],
      "metadata": {
        "id": "YwcpkHGMZcCd"
      }
    },
    {
      "cell_type": "code",
      "source": [
        "# d. Evaluar el polinomio en un valor de x dado.\n",
        "def evaluar_x(a,b,c,x):\n",
        "  return (f\"P(x)= {a}*{x}^2 + {b}*{x} + {c}=\", a*x**2 + b*x + c) \n",
        "evaluar_x(6,10,1,3)"
      ],
      "metadata": {
        "id": "SOgKZmJXZe-l",
        "colab": {
          "base_uri": "https://localhost:8080/"
        },
        "outputId": "5cfce652-d394-427f-9daa-9fb891c611b8"
      },
      "execution_count": null,
      "outputs": [
        {
          "output_type": "execute_result",
          "data": {
            "text/plain": [
              "('P(x)= 6*3^2 + 10*3 + 1=', 85)"
            ]
          },
          "metadata": {},
          "execution_count": 28
        }
      ]
    },
    {
      "cell_type": "markdown",
      "source": [
        "> e. Utilizando la función del inciso anterior, implementar un subprograma para determinar el\n",
        "punto x de un intervalo dado donde el polinomio toma el menor valor. Los extremos del\n",
        "intervalo [ xmin , xmax ] deben ser recibidos por parámetro, además de un parámetro\n",
        "adicional maxdif , que indicará la distancia entre dos puntos de evaluación consecutivos.\n",
        "```\n",
        "Ejemplos:\n",
        "Si el intervalo es [1,4] y maxdif es 0.1, el polinomio se deberá evaluar en los puntos 1; 1.1;\n",
        "1.2; 1.3; …; 3.8; 3.9; 4. En cambio, si maxdif es 1, el polinomio se deberá evaluar en los\n",
        "puntos 1; 2; 3; 4.\n",
        "```"
      ],
      "metadata": {
        "id": "RB_2YLo7ZfUl"
      }
    },
    {
      "cell_type": "code",
      "source": [],
      "metadata": {
        "id": "SPjYZk6NZg2v"
      },
      "execution_count": null,
      "outputs": []
    },
    {
      "cell_type": "markdown",
      "source": [
        "# Ejercicio 16 – Resumen del apunte\n",
        "> Nota: responder las siguientes preguntas en base a la lectura previa del apunte teórico de la Unidad\n",
        "1 - Primera parte.\n",
        "1. Indicar los tres aspectos que podemos considerar para describir la evolución de los lenguajes de\n",
        "programación.\n",
        "2. ¿Cuál es la principal función de un lenguaje ensamblador?\n",
        "3. De acuerdo al tipo de instrucciones, indicar cuáles son los tres tipos de lenguajes que podemos\n",
        "mencionar.\n",
        "4. Según la respuesta anterior, ¿a qué grupo pertenece el lenguaje Python?\n",
        "5. Indicar la clasificación de lenguajes según su forma de ejecución y describir la principal diferencia\n",
        "entre ambos.\n",
        "6. Indicar la clasificación de lenguajes según su conceptualización.\n",
        "7. Describir el concepto de paradigma de programación.\n",
        "8. Mencionar los diferentes paradigmas de programación.\n",
        "9. Indicar cuáles son los principales problemas que se intentan abordar mediante la Programación\n",
        "Orientada a Objetos."
      ],
      "metadata": {
        "id": "lLfa8Ujokzsr"
      }
    },
    {
      "cell_type": "markdown",
      "source": [
        "1. Aspectos en la ***evolucion de los lenguajes*** de progrmacion:\n",
        "\n",
        "*   **Tecnologias** (los avances tecnólogicos)\n",
        "*   **Conceptos** (los avances conceptuales)\n",
        "*   **Paradigmas** (avances en cuanto a enfoque)\n",
        "\n",
        "\n",
        "\n",
        "\n"
      ],
      "metadata": {
        "id": "WufdkxWHmP09"
      }
    },
    {
      "cell_type": "markdown",
      "source": [
        "2. La principal función de un lenguaje  **ensamblador** es **transcribir** uno nemónicos a la secuencia ceros y unos a los que el nemónico representa y que sí son entendibles por la máquina. Haciendo el código sea **más inteligible.**"
      ],
      "metadata": {
        "id": "oKAhMAkhNvvT"
      }
    },
    {
      "cell_type": "markdown",
      "source": [
        "3. De acuerdo al ***tipo de instrucciones***, los tres tipos de lenguajes que podemos mencionar son de:\n",
        "\n",
        "*   **Bajo nivel**\n",
        "*   **Medio nivel**\n",
        "*   **Alto nivel**\n",
        "\n",
        "> Los lenguajes de programación de alto nivel se componen de un conjunto de instrucciones, o primitivas, mas faciles de escribir y recordar que los lenguajes maquina y ensamblador.\n"
      ],
      "metadata": {
        "id": "Yr1rApYlO6Un"
      }
    },
    {
      "cell_type": "markdown",
      "source": [
        "4. Según la respuesta anterior, el lenguaje **Python** pertenece al tipo de lenguaje de **alto nievel**."
      ],
      "metadata": {
        "id": "fQEeTJklP0kC"
      }
    },
    {
      "cell_type": "markdown",
      "source": [
        "5. La clasificación de lenguajes según su forma de ejecución:\n",
        "\n",
        "*   **Compilado**\n",
        "*   **Interpretado**\n",
        "\n",
        "la principal diferencia entre ambos es que el ***compilado*** produce una copia de un programa en lenguaje máquina que ***se ejecuta mas tarde*** y el ***intéprete*** ejecuta realmente un programa desde su formato de alto nivel, instrucción a instrucción, y la va ***traduciendo a medida que se ejecuta***.\n",
        "\n",
        "Cada tipo de traductor tiene sus ventajas e inconvenientes."
      ],
      "metadata": {
        "id": "91E76fKwRp4P"
      }
    },
    {
      "cell_type": "markdown",
      "source": [
        "6. Clasificación de lenguajes según su conceptualización:\n",
        "\n",
        "*   **Programación lineal**\n",
        "*   **Programación estructurada**"
      ],
      "metadata": {
        "id": "VvmEmCZ7aXTy"
      }
    },
    {
      "cell_type": "markdown",
      "source": [
        "7. Concepto de ***paradigma de programación***:<br>\n",
        "Provee y determina la visión y métodos de un programador en la construcción de un programa o subprograma.<br>\n",
        "Diferentes paradigmas resultan en diferentes estilos de programación y en diferentes formas de pensar la solución de problemas (con la solución de múltiples ***problemas*** o con la creación de diversas ***soluciones***, se construye una aplicación o producto de software)."
      ],
      "metadata": {
        "id": "eyrO2XzYbj5b"
      }
    },
    {
      "cell_type": "markdown",
      "source": [
        "8. Diferentes paradigmas de programación:\n",
        "\n",
        "*   **Paradigma Imperativo**\n",
        "*   **Paradigma Declarativo**\n",
        "\n",
        "*   **Paradigma Estructurado**\n",
        "*   **Paradigma Funcional**\n",
        "\n",
        "*   **Paradigma Lógico**\n",
        "*   **Paradigma Orientado a Objetos**\n",
        "\n",
        "\n",
        "\n",
        "\n",
        "\n"
      ],
      "metadata": {
        "id": "1TSfYwGlds_r"
      }
    },
    {
      "cell_type": "markdown",
      "source": [
        "9. La Programación Orientada a Objetos aparece como una evolución natural en los paradigmas de programación y busca solucionar los principales problemas de los paradigmas anteriores:\n",
        "\n",
        "*   **Distinta abstracción del mundo.**\n",
        "*   **Dificultad en modificaión y actualización.**\n",
        "*   **Dificultad en mantenimiento.**\n",
        "*   **Dificultad en reutilización.**"
      ],
      "metadata": {
        "id": "Wj9AJFlBf7kL"
      }
    },
    {
      "cell_type": "markdown",
      "source": [
        "# ***Miércoles, 24 de agosto 2022***"
      ],
      "metadata": {
        "id": "CdPLGGKWwYxi"
      }
    },
    {
      "cell_type": "code",
      "source": [
        " def myName():\n",
        "  return \"Juan Manuel Roccia\"\n",
        "\n",
        "myName()"
      ],
      "metadata": {
        "colab": {
          "base_uri": "https://localhost:8080/",
          "height": 36
        },
        "id": "wv_35KB0sW9g",
        "outputId": "d2321dab-c8dd-4158-e6f3-91513252def2"
      },
      "execution_count": null,
      "outputs": [
        {
          "output_type": "execute_result",
          "data": {
            "text/plain": [
              "'Juan Manuel Roccia'"
            ],
            "application/vnd.google.colaboratory.intrinsic+json": {
              "type": "string"
            }
          },
          "metadata": {},
          "execution_count": 54
        }
      ]
    }
  ]
}